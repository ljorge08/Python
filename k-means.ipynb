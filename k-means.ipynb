{
 "cells": [
  {
   "cell_type": "markdown",
   "metadata": {},
   "source": [
    "## El método k means"
   ]
  },
  {
   "cell_type": "code",
   "execution_count": 1,
   "metadata": {},
   "outputs": [],
   "source": [
    "import numpy as np"
   ]
  },
  {
   "cell_type": "code",
   "execution_count": 2,
   "metadata": {},
   "outputs": [
    {
     "data": {
      "text/plain": [
       "array([[0.96473876, 0.3670809 , 0.07567672],\n",
       "       [0.8025873 , 0.86090604, 0.17030074],\n",
       "       [0.34740988, 0.04820886, 0.2348888 ],\n",
       "       [0.84337118, 0.78301657, 0.35647387],\n",
       "       [0.79636266, 0.31370745, 0.46102899],\n",
       "       [0.43882079, 0.28282488, 0.82016433],\n",
       "       [0.90579152, 0.78764708, 0.9234493 ],\n",
       "       [0.34600652, 0.83650377, 0.30290443],\n",
       "       [0.06853673, 0.63323188, 0.42974914],\n",
       "       [0.84663749, 0.23530503, 0.09188395],\n",
       "       [0.50845913, 0.34194832, 0.8160888 ],\n",
       "       [0.44933202, 0.26925193, 0.030636  ],\n",
       "       [0.26759541, 0.10222585, 0.74833449],\n",
       "       [0.94246355, 0.53723729, 0.87895033],\n",
       "       [0.62484164, 0.74323739, 0.5470341 ],\n",
       "       [0.94904421, 0.42666833, 0.4789563 ],\n",
       "       [0.99630634, 0.12675149, 0.34994853],\n",
       "       [0.21517363, 0.7432856 , 0.91692653],\n",
       "       [0.02811157, 0.7540698 , 0.98572066],\n",
       "       [0.17063745, 0.05906372, 0.4386854 ],\n",
       "       [0.43418579, 0.91934571, 0.0401332 ],\n",
       "       [0.07264353, 0.83119658, 0.90928475],\n",
       "       [0.44167177, 0.30158785, 0.99732975],\n",
       "       [0.40842097, 0.70191275, 0.38325352],\n",
       "       [0.42236703, 0.74040445, 0.75887318],\n",
       "       [0.3864933 , 0.17731992, 0.14703051],\n",
       "       [0.04609903, 0.99195584, 0.80082452],\n",
       "       [0.4645376 , 0.88429911, 0.38652472],\n",
       "       [0.93895098, 0.38823008, 0.92252006],\n",
       "       [0.99416299, 0.20772962, 0.24367597]])"
      ]
     },
     "execution_count": 2,
     "metadata": {},
     "output_type": "execute_result"
    }
   ],
   "source": [
    "data = np.random.random(90).reshape(30, 3)\n",
    "data"
   ]
  },
  {
   "cell_type": "code",
   "execution_count": 12,
   "metadata": {},
   "outputs": [
    {
     "data": {
      "text/plain": [
       "array([[0.07264353, 0.83119658, 0.90928475],\n",
       "       [0.43882079, 0.28282488, 0.82016433]])"
      ]
     },
     "execution_count": 12,
     "metadata": {},
     "output_type": "execute_result"
    }
   ],
   "source": [
    "c1 = np.random.choice(range(len(data)))\n",
    "c2 = np.random.choice(range(len(data)))\n",
    "clust_centers = np.vstack([data[c1], data[c2]])\n",
    "clust_centers"
   ]
  },
  {
   "cell_type": "code",
   "execution_count": 9,
   "metadata": {},
   "outputs": [],
   "source": [
    "from scipy.cluster.vq import vq"
   ]
  },
  {
   "cell_type": "code",
   "execution_count": 13,
   "metadata": {},
   "outputs": [
    {
     "data": {
      "text/plain": [
       "(array([1, 1, 1, 1, 1, 1, 1, 0, 0, 1, 1, 1, 1, 1, 1, 1, 1, 0, 0, 1, 0, 0,\n",
       "        1, 1, 0, 1, 0, 0, 1, 1]),\n",
       " array([0.91539641, 0.942776  , 0.63714055, 0.79300794, 0.50770869,\n",
       "        0.        , 0.69539549, 0.66517109, 0.51880757, 0.83604122,\n",
       "        0.09144228, 0.78971494, 0.25902446, 0.56730723, 0.56673059,\n",
       "        0.63042985, 0.74582299, 0.16763522, 0.11736304, 0.51722098,\n",
       "        0.9454668 , 0.        , 0.17817902, 0.60617642, 0.3913737 ,\n",
       "        0.68335833, 0.19573393, 0.65549896, 0.52126496, 0.80397953]))"
      ]
     },
     "execution_count": 13,
     "metadata": {},
     "output_type": "execute_result"
    }
   ],
   "source": [
    "vq(data, clust_centers)"
   ]
  },
  {
   "cell_type": "code",
   "execution_count": 14,
   "metadata": {},
   "outputs": [],
   "source": [
    "from scipy.cluster.vq import kmeans"
   ]
  },
  {
   "cell_type": "code",
   "execution_count": 15,
   "metadata": {},
   "outputs": [
    {
     "data": {
      "text/plain": [
       "(array([[0.28462946, 0.79813117, 0.58738443],\n",
       "        [0.68372825, 0.34824796, 0.48347489]]), 0.42753399659871333)"
      ]
     },
     "execution_count": 15,
     "metadata": {},
     "output_type": "execute_result"
    }
   ],
   "source": [
    "# Acá le doy al método kmeans los centroides\n",
    "kmeans(data, clust_centers)"
   ]
  },
  {
   "cell_type": "code",
   "execution_count": 16,
   "metadata": {},
   "outputs": [
    {
     "data": {
      "text/plain": [
       "(array([[0.73421933, 0.39460765, 0.22338613],\n",
       "        [0.40617383, 0.59227012, 0.72036767]]), 0.41915596281320083)"
      ]
     },
     "execution_count": 16,
     "metadata": {},
     "output_type": "execute_result"
    }
   ],
   "source": [
    "# Acá e doy al método kmeans la cantidad de clusters y el generará el cluster\n",
    "kmeans(data, 2)"
   ]
  },
  {
   "cell_type": "code",
   "execution_count": null,
   "metadata": {},
   "outputs": [],
   "source": []
  }
 ],
 "metadata": {
  "kernelspec": {
   "display_name": "Python 3",
   "language": "python",
   "name": "python3"
  },
  "language_info": {
   "codemirror_mode": {
    "name": "ipython",
    "version": 3
   },
   "file_extension": ".py",
   "mimetype": "text/x-python",
   "name": "python",
   "nbconvert_exporter": "python",
   "pygments_lexer": "ipython3",
   "version": "3.7.3"
  }
 },
 "nbformat": 4,
 "nbformat_minor": 2
}
