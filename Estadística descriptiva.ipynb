{
 "cells": [
  {
   "cell_type": "code",
   "execution_count": 1,
   "metadata": {},
   "outputs": [],
   "source": [
    "import pandas as pd\n",
    "import matplotlib.pyplot as plt\n",
    "import numpy as np "
   ]
  },
  {
   "cell_type": "markdown",
   "metadata": {},
   "source": [
    "# Importo los datos de los usuarios"
   ]
  },
  {
   "cell_type": "code",
   "execution_count": 7,
   "metadata": {},
   "outputs": [],
   "source": [
    "# Ahora nos vamos con los ficheros de tipo Excel \n",
    "mainpath_xls = \"C:/Users/l_jor/OneDrive/Documents/Jorge R/Personal\"\n",
    "filename = \"Historico Registro BUD 2007-202002.xlsx\"\n",
    "\n",
    "\n",
    "#Ojo para leer un Excel hay que agregarle el nombre de la hoja (sheet)\n",
    "\n",
    "df_usuarios = pd.read_excel(mainpath_xls + \"/\" + filename, \"GENTE\")"
   ]
  },
  {
   "cell_type": "code",
   "execution_count": 8,
   "metadata": {},
   "outputs": [
    {
     "data": {
      "text/html": [
       "<div>\n",
       "<style scoped>\n",
       "    .dataframe tbody tr th:only-of-type {\n",
       "        vertical-align: middle;\n",
       "    }\n",
       "\n",
       "    .dataframe tbody tr th {\n",
       "        vertical-align: top;\n",
       "    }\n",
       "\n",
       "    .dataframe thead th {\n",
       "        text-align: right;\n",
       "    }\n",
       "</style>\n",
       "<table border=\"1\" class=\"dataframe\">\n",
       "  <thead>\n",
       "    <tr style=\"text-align: right;\">\n",
       "      <th></th>\n",
       "      <th>codnino</th>\n",
       "      <th>fechanacimiento</th>\n",
       "      <th>FechaCreacion</th>\n",
       "      <th>FechaModificacion</th>\n",
       "    </tr>\n",
       "  </thead>\n",
       "  <tbody>\n",
       "    <tr>\n",
       "      <th>0</th>\n",
       "      <td>133944</td>\n",
       "      <td>1989-12-06 00:00:00.000</td>\n",
       "      <td>2020-03-10 17:28:39.313</td>\n",
       "      <td>NaN</td>\n",
       "    </tr>\n",
       "    <tr>\n",
       "      <th>1</th>\n",
       "      <td>134063</td>\n",
       "      <td>1992-08-29 00:00:00.000</td>\n",
       "      <td>2020-03-10 17:28:39.313</td>\n",
       "      <td>NaN</td>\n",
       "    </tr>\n",
       "    <tr>\n",
       "      <th>2</th>\n",
       "      <td>134075</td>\n",
       "      <td>1995-12-22 00:00:00.000</td>\n",
       "      <td>2020-03-10 17:28:39.313</td>\n",
       "      <td>NaN</td>\n",
       "    </tr>\n",
       "    <tr>\n",
       "      <th>3</th>\n",
       "      <td>134077</td>\n",
       "      <td>2002-06-06 00:00:00.000</td>\n",
       "      <td>2020-03-10 17:28:39.313</td>\n",
       "      <td>NaN</td>\n",
       "    </tr>\n",
       "    <tr>\n",
       "      <th>4</th>\n",
       "      <td>134105</td>\n",
       "      <td>1991-07-29 00:00:00.000</td>\n",
       "      <td>2020-03-10 17:28:39.313</td>\n",
       "      <td>NaN</td>\n",
       "    </tr>\n",
       "  </tbody>\n",
       "</table>\n",
       "</div>"
      ],
      "text/plain": [
       "   codnino          fechanacimiento            FechaCreacion  \\\n",
       "0   133944  1989-12-06 00:00:00.000  2020-03-10 17:28:39.313   \n",
       "1   134063  1992-08-29 00:00:00.000  2020-03-10 17:28:39.313   \n",
       "2   134075  1995-12-22 00:00:00.000  2020-03-10 17:28:39.313   \n",
       "3   134077  2002-06-06 00:00:00.000  2020-03-10 17:28:39.313   \n",
       "4   134105  1991-07-29 00:00:00.000  2020-03-10 17:28:39.313   \n",
       "\n",
       "   FechaModificacion  \n",
       "0                NaN  \n",
       "1                NaN  \n",
       "2                NaN  \n",
       "3                NaN  \n",
       "4                NaN  "
      ]
     },
     "execution_count": 8,
     "metadata": {},
     "output_type": "execute_result"
    }
   ],
   "source": [
    "df_usuarios.head()"
   ]
  },
  {
   "cell_type": "markdown",
   "metadata": {},
   "source": [
    "## Importo los datos de los ingresos"
   ]
  },
  {
   "cell_type": "code",
   "execution_count": 15,
   "metadata": {},
   "outputs": [],
   "source": [
    "df_ingresos = pd.read_excel(mainpath_xls + \"/\" + filename, \"INGRESOS\", header = 0, skiprows = 1)"
   ]
  },
  {
   "cell_type": "code",
   "execution_count": 16,
   "metadata": {
    "scrolled": true
   },
   "outputs": [
    {
     "data": {
      "text/html": [
       "<div>\n",
       "<style scoped>\n",
       "    .dataframe tbody tr th:only-of-type {\n",
       "        vertical-align: middle;\n",
       "    }\n",
       "\n",
       "    .dataframe tbody tr th {\n",
       "        vertical-align: top;\n",
       "    }\n",
       "\n",
       "    .dataframe thead th {\n",
       "        text-align: right;\n",
       "    }\n",
       "</style>\n",
       "<table border=\"1\" class=\"dataframe\">\n",
       "  <thead>\n",
       "    <tr style=\"text-align: right;\">\n",
       "      <th></th>\n",
       "      <th>ICodIE</th>\n",
       "      <th>CodProyecto</th>\n",
       "      <th>CodNino</th>\n",
       "      <th>FechaIngreso</th>\n",
       "      <th>CodModeloIntervencion</th>\n",
       "      <th>FechaCreacion</th>\n",
       "      <th>FechaModificacion</th>\n",
       "    </tr>\n",
       "  </thead>\n",
       "  <tbody>\n",
       "    <tr>\n",
       "      <th>0</th>\n",
       "      <td>3226859</td>\n",
       "      <td>1090176</td>\n",
       "      <td>363164</td>\n",
       "      <td>2007-06-07 00:00:00.000</td>\n",
       "      <td>100</td>\n",
       "      <td>2020-03-10 17:28:01.247</td>\n",
       "      <td>NaN</td>\n",
       "    </tr>\n",
       "    <tr>\n",
       "      <th>1</th>\n",
       "      <td>3226860</td>\n",
       "      <td>1090176</td>\n",
       "      <td>871517</td>\n",
       "      <td>2007-06-08 00:00:00.000</td>\n",
       "      <td>100</td>\n",
       "      <td>2020-03-10 17:28:01.247</td>\n",
       "      <td>NaN</td>\n",
       "    </tr>\n",
       "    <tr>\n",
       "      <th>2</th>\n",
       "      <td>3226861</td>\n",
       "      <td>1090176</td>\n",
       "      <td>572323</td>\n",
       "      <td>2007-06-08 00:00:00.000</td>\n",
       "      <td>100</td>\n",
       "      <td>2020-03-10 17:28:01.247</td>\n",
       "      <td>NaN</td>\n",
       "    </tr>\n",
       "    <tr>\n",
       "      <th>3</th>\n",
       "      <td>3226862</td>\n",
       "      <td>1090176</td>\n",
       "      <td>663168</td>\n",
       "      <td>2007-06-08 00:00:00.000</td>\n",
       "      <td>100</td>\n",
       "      <td>2020-03-10 17:28:01.247</td>\n",
       "      <td>NaN</td>\n",
       "    </tr>\n",
       "    <tr>\n",
       "      <th>4</th>\n",
       "      <td>3226863</td>\n",
       "      <td>1090176</td>\n",
       "      <td>332961</td>\n",
       "      <td>2007-06-08 00:00:00.000</td>\n",
       "      <td>100</td>\n",
       "      <td>2020-03-10 17:28:01.247</td>\n",
       "      <td>NaN</td>\n",
       "    </tr>\n",
       "  </tbody>\n",
       "</table>\n",
       "</div>"
      ],
      "text/plain": [
       "    ICodIE  CodProyecto  CodNino             FechaIngreso  \\\n",
       "0  3226859      1090176   363164  2007-06-07 00:00:00.000   \n",
       "1  3226860      1090176   871517  2007-06-08 00:00:00.000   \n",
       "2  3226861      1090176   572323  2007-06-08 00:00:00.000   \n",
       "3  3226862      1090176   663168  2007-06-08 00:00:00.000   \n",
       "4  3226863      1090176   332961  2007-06-08 00:00:00.000   \n",
       "\n",
       "   CodModeloIntervencion            FechaCreacion  FechaModificacion  \n",
       "0                    100  2020-03-10 17:28:01.247                NaN  \n",
       "1                    100  2020-03-10 17:28:01.247                NaN  \n",
       "2                    100  2020-03-10 17:28:01.247                NaN  \n",
       "3                    100  2020-03-10 17:28:01.247                NaN  \n",
       "4                    100  2020-03-10 17:28:01.247                NaN  "
      ]
     },
     "execution_count": 16,
     "metadata": {},
     "output_type": "execute_result"
    }
   ],
   "source": [
    "df_ingresos.head()"
   ]
  },
  {
   "cell_type": "markdown",
   "metadata": {},
   "source": [
    "## Limpio los datos de los usuarios que no me interesan"
   ]
  },
  {
   "cell_type": "code",
   "execution_count": 47,
   "metadata": {},
   "outputs": [
    {
     "data": {
      "text/html": [
       "<div>\n",
       "<style scoped>\n",
       "    .dataframe tbody tr th:only-of-type {\n",
       "        vertical-align: middle;\n",
       "    }\n",
       "\n",
       "    .dataframe tbody tr th {\n",
       "        vertical-align: top;\n",
       "    }\n",
       "\n",
       "    .dataframe thead th {\n",
       "        text-align: right;\n",
       "    }\n",
       "</style>\n",
       "<table border=\"1\" class=\"dataframe\">\n",
       "  <thead>\n",
       "    <tr style=\"text-align: right;\">\n",
       "      <th></th>\n",
       "      <th>codnino</th>\n",
       "      <th>fechanacimiento</th>\n",
       "    </tr>\n",
       "  </thead>\n",
       "  <tbody>\n",
       "    <tr>\n",
       "      <th>0</th>\n",
       "      <td>133944</td>\n",
       "      <td>1989-12-06 00:00:00.000</td>\n",
       "    </tr>\n",
       "    <tr>\n",
       "      <th>1</th>\n",
       "      <td>134063</td>\n",
       "      <td>1992-08-29 00:00:00.000</td>\n",
       "    </tr>\n",
       "    <tr>\n",
       "      <th>2</th>\n",
       "      <td>134075</td>\n",
       "      <td>1995-12-22 00:00:00.000</td>\n",
       "    </tr>\n",
       "    <tr>\n",
       "      <th>3</th>\n",
       "      <td>134077</td>\n",
       "      <td>2002-06-06 00:00:00.000</td>\n",
       "    </tr>\n",
       "    <tr>\n",
       "      <th>4</th>\n",
       "      <td>134105</td>\n",
       "      <td>1991-07-29 00:00:00.000</td>\n",
       "    </tr>\n",
       "  </tbody>\n",
       "</table>\n",
       "</div>"
      ],
      "text/plain": [
       "   codnino          fechanacimiento\n",
       "0   133944  1989-12-06 00:00:00.000\n",
       "1   134063  1992-08-29 00:00:00.000\n",
       "2   134075  1995-12-22 00:00:00.000\n",
       "3   134077  2002-06-06 00:00:00.000\n",
       "4   134105  1991-07-29 00:00:00.000"
      ]
     },
     "execution_count": 47,
     "metadata": {},
     "output_type": "execute_result"
    }
   ],
   "source": [
    "undesired_columns_users = [\"FechaCreacion\", \"FechaModificacion\"]\n",
    "all_columns_list = df_usuarios.columns.values.tolist()\n",
    "sublist = [x for x in all_columns_list if x not in undesired_columns_users]\n",
    "df_usuarios = df_usuarios[sublist]\n",
    "df_usuarios.head()"
   ]
  },
  {
   "cell_type": "markdown",
   "metadata": {},
   "source": [
    "## Limpio los datos de los ingresos que no me interesan"
   ]
  },
  {
   "cell_type": "code",
   "execution_count": 46,
   "metadata": {},
   "outputs": [
    {
     "data": {
      "text/html": [
       "<div>\n",
       "<style scoped>\n",
       "    .dataframe tbody tr th:only-of-type {\n",
       "        vertical-align: middle;\n",
       "    }\n",
       "\n",
       "    .dataframe tbody tr th {\n",
       "        vertical-align: top;\n",
       "    }\n",
       "\n",
       "    .dataframe thead th {\n",
       "        text-align: right;\n",
       "    }\n",
       "</style>\n",
       "<table border=\"1\" class=\"dataframe\">\n",
       "  <thead>\n",
       "    <tr style=\"text-align: right;\">\n",
       "      <th></th>\n",
       "      <th>ICodIE</th>\n",
       "      <th>CodProyecto</th>\n",
       "      <th>CodNino</th>\n",
       "      <th>FechaIngreso</th>\n",
       "      <th>CodModeloIntervencion</th>\n",
       "    </tr>\n",
       "  </thead>\n",
       "  <tbody>\n",
       "    <tr>\n",
       "      <th>0</th>\n",
       "      <td>3226859</td>\n",
       "      <td>1090176</td>\n",
       "      <td>363164</td>\n",
       "      <td>2007-06-07 00:00:00.000</td>\n",
       "      <td>100</td>\n",
       "    </tr>\n",
       "    <tr>\n",
       "      <th>1</th>\n",
       "      <td>3226860</td>\n",
       "      <td>1090176</td>\n",
       "      <td>871517</td>\n",
       "      <td>2007-06-08 00:00:00.000</td>\n",
       "      <td>100</td>\n",
       "    </tr>\n",
       "    <tr>\n",
       "      <th>2</th>\n",
       "      <td>3226861</td>\n",
       "      <td>1090176</td>\n",
       "      <td>572323</td>\n",
       "      <td>2007-06-08 00:00:00.000</td>\n",
       "      <td>100</td>\n",
       "    </tr>\n",
       "    <tr>\n",
       "      <th>3</th>\n",
       "      <td>3226862</td>\n",
       "      <td>1090176</td>\n",
       "      <td>663168</td>\n",
       "      <td>2007-06-08 00:00:00.000</td>\n",
       "      <td>100</td>\n",
       "    </tr>\n",
       "    <tr>\n",
       "      <th>4</th>\n",
       "      <td>3226863</td>\n",
       "      <td>1090176</td>\n",
       "      <td>332961</td>\n",
       "      <td>2007-06-08 00:00:00.000</td>\n",
       "      <td>100</td>\n",
       "    </tr>\n",
       "  </tbody>\n",
       "</table>\n",
       "</div>"
      ],
      "text/plain": [
       "    ICodIE  CodProyecto  CodNino             FechaIngreso  \\\n",
       "0  3226859      1090176   363164  2007-06-07 00:00:00.000   \n",
       "1  3226860      1090176   871517  2007-06-08 00:00:00.000   \n",
       "2  3226861      1090176   572323  2007-06-08 00:00:00.000   \n",
       "3  3226862      1090176   663168  2007-06-08 00:00:00.000   \n",
       "4  3226863      1090176   332961  2007-06-08 00:00:00.000   \n",
       "\n",
       "   CodModeloIntervencion  \n",
       "0                    100  \n",
       "1                    100  \n",
       "2                    100  \n",
       "3                    100  \n",
       "4                    100  "
      ]
     },
     "execution_count": 46,
     "metadata": {},
     "output_type": "execute_result"
    }
   ],
   "source": [
    "undesired_columns_compras = [\"FechaCreacion\", \"FechaModificacion\"]\n",
    "all_columns_list = df_ingresos.columns.values.tolist()\n",
    "sublist = [x for x in all_columns_list if x not in undesired_columns_users]\n",
    "df_ingresos = df_ingresos[sublist]\n",
    "df_ingresos.head()"
   ]
  },
  {
   "cell_type": "markdown",
   "metadata": {},
   "source": [
    "# Hago validaciones de la informacion clientes e ingresos"
   ]
  },
  {
   "cell_type": "code",
   "execution_count": 65,
   "metadata": {},
   "outputs": [
    {
     "data": {
      "text/html": [
       "<div>\n",
       "<style scoped>\n",
       "    .dataframe tbody tr th:only-of-type {\n",
       "        vertical-align: middle;\n",
       "    }\n",
       "\n",
       "    .dataframe tbody tr th {\n",
       "        vertical-align: top;\n",
       "    }\n",
       "\n",
       "    .dataframe thead th {\n",
       "        text-align: right;\n",
       "    }\n",
       "</style>\n",
       "<table border=\"1\" class=\"dataframe\">\n",
       "  <thead>\n",
       "    <tr style=\"text-align: right;\">\n",
       "      <th></th>\n",
       "      <th>dup</th>\n",
       "    </tr>\n",
       "  </thead>\n",
       "  <tbody>\n",
       "  </tbody>\n",
       "</table>\n",
       "</div>"
      ],
      "text/plain": [
       "Empty DataFrame\n",
       "Columns: [dup]\n",
       "Index: []"
      ]
     },
     "execution_count": 65,
     "metadata": {},
     "output_type": "execute_result"
    }
   ],
   "source": [
    "# Primero reviso si hay codigos de clientes repetidos\n",
    "df_dup = df_usuarios.duplicated(subset=\"codnino\")\n",
    "data_dup = pd.DataFrame(\n",
    "    {\n",
    "        \"dup\" : df_dup\n",
    "     }\n",
    ")\n",
    "data_dup[(data_dup[\"dup\"]==1)]"
   ]
  },
  {
   "cell_type": "code",
   "execution_count": 75,
   "metadata": {},
   "outputs": [
    {
     "data": {
      "text/plain": [
       "0"
      ]
     },
     "execution_count": 75,
     "metadata": {},
     "output_type": "execute_result"
    }
   ],
   "source": [
    "# Ahora reviso si hay codigos de clientes vacios\n",
    "len(df_usuarios[pd.isnull(df_usuarios.codnino)])"
   ]
  },
  {
   "cell_type": "code",
   "execution_count": 76,
   "metadata": {},
   "outputs": [
    {
     "data": {
      "text/plain": [
       "0"
      ]
     },
     "execution_count": 76,
     "metadata": {},
     "output_type": "execute_result"
    }
   ],
   "source": [
    "#Reviso si hay fechas de nacimiento vacias\n",
    "len(df_usuarios[pd.isnull(df_usuarios.fechanacimiento)])"
   ]
  },
  {
   "cell_type": "code",
   "execution_count": 77,
   "metadata": {},
   "outputs": [
    {
     "data": {
      "text/plain": [
       "0"
      ]
     },
     "execution_count": 77,
     "metadata": {},
     "output_type": "execute_result"
    }
   ],
   "source": [
    "#Reviso si hay fechas de ingreso vacias\n",
    "len(df_ingresos[pd.isnull(df_ingresos.FechaIngreso)])"
   ]
  },
  {
   "cell_type": "markdown",
   "metadata": {},
   "source": [
    "# Uno los datos de usuarios con los ingresos\n",
    "\n",
    "* Primera posible vista o tabla materializada"
   ]
  },
  {
   "cell_type": "code",
   "execution_count": 84,
   "metadata": {},
   "outputs": [
    {
     "data": {
      "text/plain": [
       "0"
      ]
     },
     "execution_count": 84,
     "metadata": {},
     "output_type": "execute_result"
    }
   ],
   "source": [
    "# Verifico si hay codigos de usuarios en los ingresos, que no esten en la tabla de usuarios\n",
    "merged_right = pd.merge(left = df_usuarios, right = df_ingresos,\n",
    "                        how =\"right\" , left_on = \"codnino\", right_on = \"CodNino\")\n",
    "len(merged_right[pd.isnull(merged_right.CodNino)])"
   ]
  },
  {
   "cell_type": "code",
   "execution_count": 85,
   "metadata": {},
   "outputs": [
    {
     "data": {
      "text/plain": [
       "0"
      ]
     },
     "execution_count": 85,
     "metadata": {},
     "output_type": "execute_result"
    }
   ],
   "source": [
    "# Verifico si hay codigos de usuarios, que no esten en la tabla de ingresos\n",
    "merged_left = pd.merge(left = df_usuarios, right = df_ingresos,\n",
    "                        how =\"left\" , left_on = \"codnino\", right_on = \"CodNino\")\n",
    "len(merged_left[pd.isnull(merged_right.CodNino)])"
   ]
  },
  {
   "cell_type": "code",
   "execution_count": 87,
   "metadata": {},
   "outputs": [
    {
     "data": {
      "text/html": [
       "<div>\n",
       "<style scoped>\n",
       "    .dataframe tbody tr th:only-of-type {\n",
       "        vertical-align: middle;\n",
       "    }\n",
       "\n",
       "    .dataframe tbody tr th {\n",
       "        vertical-align: top;\n",
       "    }\n",
       "\n",
       "    .dataframe thead th {\n",
       "        text-align: right;\n",
       "    }\n",
       "</style>\n",
       "<table border=\"1\" class=\"dataframe\">\n",
       "  <thead>\n",
       "    <tr style=\"text-align: right;\">\n",
       "      <th></th>\n",
       "      <th>codnino</th>\n",
       "      <th>fechanacimiento</th>\n",
       "      <th>ICodIE</th>\n",
       "      <th>CodProyecto</th>\n",
       "      <th>CodNino</th>\n",
       "      <th>FechaIngreso</th>\n",
       "      <th>CodModeloIntervencion</th>\n",
       "    </tr>\n",
       "  </thead>\n",
       "  <tbody>\n",
       "    <tr>\n",
       "      <th>0</th>\n",
       "      <td>133944</td>\n",
       "      <td>1989-12-06 00:00:00.000</td>\n",
       "      <td>3292717</td>\n",
       "      <td>1100235</td>\n",
       "      <td>133944</td>\n",
       "      <td>2007-09-05 00:00:00.000</td>\n",
       "      <td>99</td>\n",
       "    </tr>\n",
       "    <tr>\n",
       "      <th>1</th>\n",
       "      <td>133944</td>\n",
       "      <td>1989-12-06 00:00:00.000</td>\n",
       "      <td>3329394</td>\n",
       "      <td>1100221</td>\n",
       "      <td>133944</td>\n",
       "      <td>2007-11-12 00:00:00.000</td>\n",
       "      <td>100</td>\n",
       "    </tr>\n",
       "    <tr>\n",
       "      <th>2</th>\n",
       "      <td>133944</td>\n",
       "      <td>1989-12-06 00:00:00.000</td>\n",
       "      <td>3518567</td>\n",
       "      <td>1100225</td>\n",
       "      <td>133944</td>\n",
       "      <td>2009-01-21 00:00:00.000</td>\n",
       "      <td>103</td>\n",
       "    </tr>\n",
       "    <tr>\n",
       "      <th>3</th>\n",
       "      <td>133944</td>\n",
       "      <td>1989-12-06 00:00:00.000</td>\n",
       "      <td>3586051</td>\n",
       "      <td>1100235</td>\n",
       "      <td>133944</td>\n",
       "      <td>2009-07-22 00:00:00.000</td>\n",
       "      <td>99</td>\n",
       "    </tr>\n",
       "    <tr>\n",
       "      <th>4</th>\n",
       "      <td>133944</td>\n",
       "      <td>1989-12-06 00:00:00.000</td>\n",
       "      <td>3724427</td>\n",
       "      <td>1140018</td>\n",
       "      <td>133944</td>\n",
       "      <td>2009-07-22 00:00:00.000</td>\n",
       "      <td>99</td>\n",
       "    </tr>\n",
       "  </tbody>\n",
       "</table>\n",
       "</div>"
      ],
      "text/plain": [
       "   codnino          fechanacimiento   ICodIE  CodProyecto  CodNino  \\\n",
       "0   133944  1989-12-06 00:00:00.000  3292717      1100235   133944   \n",
       "1   133944  1989-12-06 00:00:00.000  3329394      1100221   133944   \n",
       "2   133944  1989-12-06 00:00:00.000  3518567      1100225   133944   \n",
       "3   133944  1989-12-06 00:00:00.000  3586051      1100235   133944   \n",
       "4   133944  1989-12-06 00:00:00.000  3724427      1140018   133944   \n",
       "\n",
       "              FechaIngreso  CodModeloIntervencion  \n",
       "0  2007-09-05 00:00:00.000                     99  \n",
       "1  2007-11-12 00:00:00.000                    100  \n",
       "2  2009-01-21 00:00:00.000                    103  \n",
       "3  2009-07-22 00:00:00.000                     99  \n",
       "4  2009-07-22 00:00:00.000                     99  "
      ]
     },
     "execution_count": 87,
     "metadata": {},
     "output_type": "execute_result"
    }
   ],
   "source": [
    "data = pd.merge(left = df_usuarios, right = df_ingresos,\n",
    "                        how =\"outer\" , left_on = \"codnino\", right_on = \"CodNino\")\n",
    "data.head()"
   ]
  },
  {
   "cell_type": "markdown",
   "metadata": {},
   "source": [
    "# Agrego la edad de ingreso al data set"
   ]
  },
  {
   "cell_type": "code",
   "execution_count": 88,
   "metadata": {},
   "outputs": [],
   "source": [
    "data[\"Edad\"] = ((pd.to_datetime(data[\"FechaIngreso\"])).apply(lambda x: x.year) - \n",
    "                pd.to_datetime(data[\"fechanacimiento\"]).apply(lambda x: x.year))"
   ]
  },
  {
   "cell_type": "code",
   "execution_count": 89,
   "metadata": {},
   "outputs": [
    {
     "data": {
      "text/html": [
       "<div>\n",
       "<style scoped>\n",
       "    .dataframe tbody tr th:only-of-type {\n",
       "        vertical-align: middle;\n",
       "    }\n",
       "\n",
       "    .dataframe tbody tr th {\n",
       "        vertical-align: top;\n",
       "    }\n",
       "\n",
       "    .dataframe thead th {\n",
       "        text-align: right;\n",
       "    }\n",
       "</style>\n",
       "<table border=\"1\" class=\"dataframe\">\n",
       "  <thead>\n",
       "    <tr style=\"text-align: right;\">\n",
       "      <th></th>\n",
       "      <th>codnino</th>\n",
       "      <th>fechanacimiento</th>\n",
       "      <th>ICodIE</th>\n",
       "      <th>CodProyecto</th>\n",
       "      <th>CodNino</th>\n",
       "      <th>FechaIngreso</th>\n",
       "      <th>CodModeloIntervencion</th>\n",
       "      <th>Edad</th>\n",
       "    </tr>\n",
       "  </thead>\n",
       "  <tbody>\n",
       "    <tr>\n",
       "      <th>0</th>\n",
       "      <td>133944</td>\n",
       "      <td>1989-12-06 00:00:00.000</td>\n",
       "      <td>3292717</td>\n",
       "      <td>1100235</td>\n",
       "      <td>133944</td>\n",
       "      <td>2007-09-05 00:00:00.000</td>\n",
       "      <td>99</td>\n",
       "      <td>18</td>\n",
       "    </tr>\n",
       "    <tr>\n",
       "      <th>1</th>\n",
       "      <td>133944</td>\n",
       "      <td>1989-12-06 00:00:00.000</td>\n",
       "      <td>3329394</td>\n",
       "      <td>1100221</td>\n",
       "      <td>133944</td>\n",
       "      <td>2007-11-12 00:00:00.000</td>\n",
       "      <td>100</td>\n",
       "      <td>18</td>\n",
       "    </tr>\n",
       "    <tr>\n",
       "      <th>2</th>\n",
       "      <td>133944</td>\n",
       "      <td>1989-12-06 00:00:00.000</td>\n",
       "      <td>3518567</td>\n",
       "      <td>1100225</td>\n",
       "      <td>133944</td>\n",
       "      <td>2009-01-21 00:00:00.000</td>\n",
       "      <td>103</td>\n",
       "      <td>20</td>\n",
       "    </tr>\n",
       "    <tr>\n",
       "      <th>3</th>\n",
       "      <td>133944</td>\n",
       "      <td>1989-12-06 00:00:00.000</td>\n",
       "      <td>3586051</td>\n",
       "      <td>1100235</td>\n",
       "      <td>133944</td>\n",
       "      <td>2009-07-22 00:00:00.000</td>\n",
       "      <td>99</td>\n",
       "      <td>20</td>\n",
       "    </tr>\n",
       "    <tr>\n",
       "      <th>4</th>\n",
       "      <td>133944</td>\n",
       "      <td>1989-12-06 00:00:00.000</td>\n",
       "      <td>3724427</td>\n",
       "      <td>1140018</td>\n",
       "      <td>133944</td>\n",
       "      <td>2009-07-22 00:00:00.000</td>\n",
       "      <td>99</td>\n",
       "      <td>20</td>\n",
       "    </tr>\n",
       "  </tbody>\n",
       "</table>\n",
       "</div>"
      ],
      "text/plain": [
       "   codnino          fechanacimiento   ICodIE  CodProyecto  CodNino  \\\n",
       "0   133944  1989-12-06 00:00:00.000  3292717      1100235   133944   \n",
       "1   133944  1989-12-06 00:00:00.000  3329394      1100221   133944   \n",
       "2   133944  1989-12-06 00:00:00.000  3518567      1100225   133944   \n",
       "3   133944  1989-12-06 00:00:00.000  3586051      1100235   133944   \n",
       "4   133944  1989-12-06 00:00:00.000  3724427      1140018   133944   \n",
       "\n",
       "              FechaIngreso  CodModeloIntervencion  Edad  \n",
       "0  2007-09-05 00:00:00.000                     99    18  \n",
       "1  2007-11-12 00:00:00.000                    100    18  \n",
       "2  2009-01-21 00:00:00.000                    103    20  \n",
       "3  2009-07-22 00:00:00.000                     99    20  \n",
       "4  2009-07-22 00:00:00.000                     99    20  "
      ]
     },
     "execution_count": 89,
     "metadata": {},
     "output_type": "execute_result"
    }
   ],
   "source": [
    "data.head()"
   ]
  },
  {
   "cell_type": "markdown",
   "metadata": {},
   "source": [
    "# Histograma por edad"
   ]
  },
  {
   "cell_type": "code",
   "execution_count": 157,
   "metadata": {},
   "outputs": [
    {
     "data": {
      "text/plain": [
       "Text(0.5, 1.0, 'Histograma por edad')"
      ]
     },
     "execution_count": 157,
     "metadata": {},
     "output_type": "execute_result"
    },
    {
     "data": {
      "image/png": "[encoded data removed]",
      "text/plain": [
       "<Figure size 432x288 with 1 Axes>"
      ]
     },
     "metadata": {
      "needs_background": "light"
     },
     "output_type": "display_data"
    }
   ],
   "source": [
    "plt.hist(data[\"Edad\"], facecolor='g', label = 'str', bins = 27)\n",
    "plt.xlabel('Edad')\n",
    "plt.ylabel('Cantidad de ingresos a la Edad')\n",
    "plt.title('Histograma por edad')"
   ]
  },
  {
   "cell_type": "code",
   "execution_count": 101,
   "metadata": {},
   "outputs": [
    {
     "data": {
      "text/plain": [
       "count    270213.000000\n",
       "mean         17.268684\n",
       "std           1.677386\n",
       "min          10.000000\n",
       "25%          16.000000\n",
       "50%          17.000000\n",
       "75%          18.000000\n",
       "max          36.000000\n",
       "Name: Edad, dtype: float64"
      ]
     },
     "execution_count": 101,
     "metadata": {},
     "output_type": "execute_result"
    }
   ],
   "source": [
    "data[\"Edad\"].describe()"
   ]
  },
  {
   "cell_type": "markdown",
   "metadata": {},
   "source": [
    "# Histograma por fechas"
   ]
  },
  {
   "cell_type": "code",
   "execution_count": 102,
   "metadata": {},
   "outputs": [],
   "source": [
    "AnoMesIngreso = pd.to_datetime(data[\"FechaIngreso\"]).apply(lambda x: str(x.year))+'-'+pd.to_datetime(data[\"FechaIngreso\"]).apply(lambda x: str(x.month))\n",
    "AnoIngreso = pd.to_datetime(data[\"FechaIngreso\"]).apply(lambda x: x.year)\n",
    "MesIngreso = pd.to_datetime(data[\"FechaIngreso\"]).apply(lambda x: x.month)\n",
    "\n",
    "Fecha_Ingreso = pd.DataFrame(\n",
    "    {\n",
    "        \"date\": AnoMesIngreso,\n",
    "        \"year\" : AnoIngreso,\n",
    "        \"month\" : MesIngreso\n",
    "     }\n",
    ")"
   ]
  },
  {
   "cell_type": "code",
   "execution_count": 261,
   "metadata": {},
   "outputs": [
    {
     "data": {
      "text/html": [
       "<div>\n",
       "<style scoped>\n",
       "    .dataframe tbody tr th:only-of-type {\n",
       "        vertical-align: middle;\n",
       "    }\n",
       "\n",
       "    .dataframe tbody tr th {\n",
       "        vertical-align: top;\n",
       "    }\n",
       "\n",
       "    .dataframe thead th {\n",
       "        text-align: right;\n",
       "    }\n",
       "</style>\n",
       "<table border=\"1\" class=\"dataframe\">\n",
       "  <thead>\n",
       "    <tr style=\"text-align: right;\">\n",
       "      <th></th>\n",
       "      <th>year</th>\n",
       "      <th>month</th>\n",
       "    </tr>\n",
       "  </thead>\n",
       "  <tbody>\n",
       "    <tr>\n",
       "      <th>count</th>\n",
       "      <td>270213.000000</td>\n",
       "      <td>270213.000000</td>\n",
       "    </tr>\n",
       "    <tr>\n",
       "      <th>mean</th>\n",
       "      <td>2012.882330</td>\n",
       "      <td>6.526966</td>\n",
       "    </tr>\n",
       "    <tr>\n",
       "      <th>std</th>\n",
       "      <td>3.436619</td>\n",
       "      <td>3.426066</td>\n",
       "    </tr>\n",
       "    <tr>\n",
       "      <th>min</th>\n",
       "      <td>2007.000000</td>\n",
       "      <td>1.000000</td>\n",
       "    </tr>\n",
       "    <tr>\n",
       "      <th>25%</th>\n",
       "      <td>2010.000000</td>\n",
       "      <td>4.000000</td>\n",
       "    </tr>\n",
       "    <tr>\n",
       "      <th>50%</th>\n",
       "      <td>2013.000000</td>\n",
       "      <td>7.000000</td>\n",
       "    </tr>\n",
       "    <tr>\n",
       "      <th>75%</th>\n",
       "      <td>2016.000000</td>\n",
       "      <td>10.000000</td>\n",
       "    </tr>\n",
       "    <tr>\n",
       "      <th>max</th>\n",
       "      <td>2020.000000</td>\n",
       "      <td>12.000000</td>\n",
       "    </tr>\n",
       "  </tbody>\n",
       "</table>\n",
       "</div>"
      ],
      "text/plain": [
       "                year          month\n",
       "count  270213.000000  270213.000000\n",
       "mean     2012.882330       6.526966\n",
       "std         3.436619       3.426066\n",
       "min      2007.000000       1.000000\n",
       "25%      2010.000000       4.000000\n",
       "50%      2013.000000       7.000000\n",
       "75%      2016.000000      10.000000\n",
       "max      2020.000000      12.000000"
      ]
     },
     "execution_count": 261,
     "metadata": {},
     "output_type": "execute_result"
    }
   ],
   "source": [
    "Fecha_Ingreso.describe()"
   ]
  },
  {
   "cell_type": "code",
   "execution_count": 158,
   "metadata": {},
   "outputs": [
    {
     "data": {
      "text/plain": [
       "Text(0.5, 1.0, 'Histograma por año')"
      ]
     },
     "execution_count": 158,
     "metadata": {},
     "output_type": "execute_result"
    },
    {
     "data": {
      "image/png": "[encoded data removed]",
      "text/plain": [
       "<Figure size 432x288 with 1 Axes>"
      ]
     },
     "metadata": {
      "needs_background": "light"
     },
     "output_type": "display_data"
    }
   ],
   "source": [
    "plt.hist(Fecha_Ingreso[\"year\"], facecolor='g', bins = 14)\n",
    "plt.xlabel('Año')\n",
    "plt.ylabel('Cantitdad de ingresos al año')\n",
    "plt.title('Histograma por año')\n"
   ]
  },
  {
   "cell_type": "code",
   "execution_count": 117,
   "metadata": {},
   "outputs": [
    {
     "data": {
      "text/plain": [
       "year\n",
       "2007     8506\n",
       "2008    20657\n",
       "2009    25488\n",
       "2010    27874\n",
       "2011    25002\n",
       "2012    23308\n",
       "2013    23291\n",
       "2014    23199\n",
       "2015    20656\n",
       "2016    20297\n",
       "2017    20168\n",
       "2018    17029\n",
       "2019    12974\n",
       "2020     1764\n",
       "dtype: int64"
      ]
     },
     "execution_count": 117,
     "metadata": {},
     "output_type": "execute_result"
    }
   ],
   "source": [
    "grouped_year = Fecha_Ingreso.groupby(\"year\")\n",
    "grouped_year.size()"
   ]
  },
  {
   "cell_type": "code",
   "execution_count": 140,
   "metadata": {},
   "outputs": [],
   "source": [
    "Fecha_2007=Fecha_Ingreso[(Fecha_Ingreso[\"year\"]==2007)]\n",
    "Fecha_2008=Fecha_Ingreso[(Fecha_Ingreso[\"year\"]==2008)]\n",
    "Fecha_2009=Fecha_Ingreso[(Fecha_Ingreso[\"year\"]==2009)]\n",
    "Fecha_2010=Fecha_Ingreso[(Fecha_Ingreso[\"year\"]==2010)]\n",
    "Fecha_2011=Fecha_Ingreso[(Fecha_Ingreso[\"year\"]==2011)]\n",
    "Fecha_2012=Fecha_Ingreso[(Fecha_Ingreso[\"year\"]==2012)]\n",
    "Fecha_2013=Fecha_Ingreso[(Fecha_Ingreso[\"year\"]==2013)]\n",
    "Fecha_2014=Fecha_Ingreso[(Fecha_Ingreso[\"year\"]==2014)]\n",
    "Fecha_2015=Fecha_Ingreso[(Fecha_Ingreso[\"year\"]==2015)]\n",
    "Fecha_2016=Fecha_Ingreso[(Fecha_Ingreso[\"year\"]==2016)]\n",
    "Fecha_2017=Fecha_Ingreso[(Fecha_Ingreso[\"year\"]==2017)]\n",
    "Fecha_2018=Fecha_Ingreso[(Fecha_Ingreso[\"year\"]==2018)]\n",
    "Fecha_2019=Fecha_Ingreso[(Fecha_Ingreso[\"year\"]==2019)]\n",
    "Fecha_2020=Fecha_Ingreso[(Fecha_Ingreso[\"year\"]==2020)]"
   ]
  },
  {
   "cell_type": "code",
   "execution_count": 162,
   "metadata": {},
   "outputs": [
    {
     "data": {
      "text/plain": [
       "Text(0.5, 1.0, 'Histograma Mes en el 2007')"
      ]
     },
     "execution_count": 162,
     "metadata": {},
     "output_type": "execute_result"
    },
    {
     "data": {
      "image/png": "[encoded data removed]",
      "text/plain": [
       "<Figure size 432x288 with 1 Axes>"
      ]
     },
     "metadata": {
      "needs_background": "light"
     },
     "output_type": "display_data"
    }
   ],
   "source": [
    "plt.hist(Fecha_2007[\"month\"], facecolor='g', bins = 12)\n",
    "plt.xlabel('Mes')\n",
    "plt.ylabel('Cantitdad de ingresos al mes')\n",
    "plt.title('Histograma Mes en el 2007')\n"
   ]
  },
  {
   "cell_type": "code",
   "execution_count": 163,
   "metadata": {},
   "outputs": [
    {
     "data": {
      "text/plain": [
       "Text(0.5, 1.0, 'Histograma Mes en el 2008')"
      ]
     },
     "execution_count": 163,
     "metadata": {},
     "output_type": "execute_result"
    },
    {
     "data": {
      "image/png": "[encoded data removed]",
      "text/plain": [
       "<Figure size 432x288 with 1 Axes>"
      ]
     },
     "metadata": {
      "needs_background": "light"
     },
     "output_type": "display_data"
    }
   ],
   "source": [
    "plt.hist(Fecha_2008[\"month\"], facecolor='g', bins = 12)\n",
    "plt.xlabel('Mes')\n",
    "plt.ylabel('Cantitdad de ingresos al mes')\n",
    "plt.title('Histograma Mes en el 2008')"
   ]
  },
  {
   "cell_type": "code",
   "execution_count": 164,
   "metadata": {},
   "outputs": [
    {
     "data": {
      "text/plain": [
       "Text(0.5, 1.0, 'Histograma Mes en el 2009')"
      ]
     },
     "execution_count": 164,
     "metadata": {},
     "output_type": "execute_result"
    },
    {
     "data": {
      "image/png": "[encoded data removed]",
      "text/plain": [
       "<Figure size 432x288 with 1 Axes>"
      ]
     },
     "metadata": {
      "needs_background": "light"
     },
     "output_type": "display_data"
    }
   ],
   "source": [
    "plt.hist(Fecha_2009[\"month\"], facecolor='g', bins = 12)\n",
    "plt.xlabel('Mes')\n",
    "plt.ylabel('Cantitdad de ingresos al mes')\n",
    "plt.title('Histograma Mes en el 2009')"
   ]
  },
  {
   "cell_type": "code",
   "execution_count": 165,
   "metadata": {},
   "outputs": [
    {
     "data": {
      "text/plain": [
       "Text(0.5, 1.0, 'Histograma Mes en el 2010')"
      ]
     },
     "execution_count": 165,
     "metadata": {},
     "output_type": "execute_result"
    },
    {
     "data": {
      "image/png": "[encoded data removed]",
      "text/plain": [
       "<Figure size 432x288 with 1 Axes>"
      ]
     },
     "metadata": {
      "needs_background": "light"
     },
     "output_type": "display_data"
    }
   ],
   "source": [
    "plt.hist(Fecha_2010[\"month\"], facecolor='g', bins = 12)\n",
    "plt.xlabel('Mes')\n",
    "plt.ylabel('Cantitdad de ingresos al mes')\n",
    "plt.title('Histograma Mes en el 2010')"
   ]
  },
  {
   "cell_type": "code",
   "execution_count": 167,
   "metadata": {},
   "outputs": [
    {
     "data": {
      "text/plain": [
       "Text(0.5, 1.0, 'Histograma Mes en el 2011')"
      ]
     },
     "execution_count": 167,
     "metadata": {},
     "output_type": "execute_result"
    },
    {
     "data": {
      "image/png": "[encoded data removed]",
      "text/plain": [
       "<Figure size 432x288 with 1 Axes>"
      ]
     },
     "metadata": {
      "needs_background": "light"
     },
     "output_type": "display_data"
    }
   ],
   "source": [
    "plt.hist(Fecha_2011[\"month\"], facecolor='g', bins = 12)\n",
    "plt.xlabel('Mes')\n",
    "plt.ylabel('Cantitdad de ingresos al mes')\n",
    "plt.title('Histograma Mes en el 2011')"
   ]
  },
  {
   "cell_type": "code",
   "execution_count": 168,
   "metadata": {},
   "outputs": [
    {
     "data": {
      "text/plain": [
       "Text(0.5, 1.0, 'Histograma Mes en el 2012')"
      ]
     },
     "execution_count": 168,
     "metadata": {},
     "output_type": "execute_result"
    },
    {
     "data": {
      "image/png": "[encoded data removed]",
      "text/plain": [
       "<Figure size 432x288 with 1 Axes>"
      ]
     },
     "metadata": {
      "needs_background": "light"
     },
     "output_type": "display_data"
    }
   ],
   "source": [
    "plt.hist(Fecha_2012[\"month\"], facecolor='g', bins = 12)\n",
    "plt.xlabel('Mes')\n",
    "plt.ylabel('Cantitdad de ingresos al mes')\n",
    "plt.title('Histograma Mes en el 2012')"
   ]
  },
  {
   "cell_type": "code",
   "execution_count": 169,
   "metadata": {},
   "outputs": [
    {
     "data": {
      "text/plain": [
       "Text(0.5, 1.0, 'Histograma Mes en el 2013')"
      ]
     },
     "execution_count": 169,
     "metadata": {},
     "output_type": "execute_result"
    },
    {
     "data": {
      "image/png": "[encoded data removed]",
      "text/plain": [
       "<Figure size 432x288 with 1 Axes>"
      ]
     },
     "metadata": {
      "needs_background": "light"
     },
     "output_type": "display_data"
    }
   ],
   "source": [
    "plt.hist(Fecha_2013[\"month\"], facecolor='g', bins = 12)\n",
    "plt.xlabel('Mes')\n",
    "plt.ylabel('Cantitdad de ingresos al mes')\n",
    "plt.title('Histograma Mes en el 2013')"
   ]
  },
  {
   "cell_type": "code",
   "execution_count": 170,
   "metadata": {},
   "outputs": [
    {
     "data": {
      "text/plain": [
       "Text(0.5, 1.0, 'Histograma Mes en el 2014')"
      ]
     },
     "execution_count": 170,
     "metadata": {},
     "output_type": "execute_result"
    },
    {
     "data": {
      "image/png": "[encoded data removed]",
      "text/plain": [
       "<Figure size 432x288 with 1 Axes>"
      ]
     },
     "metadata": {
      "needs_background": "light"
     },
     "output_type": "display_data"
    }
   ],
   "source": [
    "plt.hist(Fecha_2014[\"month\"], facecolor='g', bins = 12)\n",
    "plt.xlabel('Mes')\n",
    "plt.ylabel('Cantitdad de ingresos al mes')\n",
    "plt.title('Histograma Mes en el 2014')"
   ]
  },
  {
   "cell_type": "code",
   "execution_count": 171,
   "metadata": {},
   "outputs": [
    {
     "data": {
      "text/plain": [
       "Text(0.5, 1.0, 'Histograma Mes en el 2015')"
      ]
     },
     "execution_count": 171,
     "metadata": {},
     "output_type": "execute_result"
    },
    {
     "data": {
      "image/png": "[encoded data removed]",
      "text/plain": [
       "<Figure size 432x288 with 1 Axes>"
      ]
     },
     "metadata": {
      "needs_background": "light"
     },
     "output_type": "display_data"
    }
   ],
   "source": [
    "plt.hist(Fecha_2015[\"month\"], facecolor='g', bins = 12)\n",
    "plt.xlabel('Mes')\n",
    "plt.ylabel('Cantitdad de ingresos al mes')\n",
    "plt.title('Histograma Mes en el 2015')"
   ]
  },
  {
   "cell_type": "code",
   "execution_count": 172,
   "metadata": {},
   "outputs": [
    {
     "data": {
      "text/plain": [
       "Text(0.5, 1.0, 'Histograma Mes en el 2016')"
      ]
     },
     "execution_count": 172,
     "metadata": {},
     "output_type": "execute_result"
    },
    {
     "data": {
      "image/png": "[encoded data removed]",
      "text/plain": [
       "<Figure size 432x288 with 1 Axes>"
      ]
     },
     "metadata": {
      "needs_background": "light"
     },
     "output_type": "display_data"
    }
   ],
   "source": [
    "plt.hist(Fecha_2016[\"month\"], facecolor='g', bins = 12)\n",
    "plt.xlabel('Mes')\n",
    "plt.ylabel('Cantitdad de ingresos al mes')\n",
    "plt.title('Histograma Mes en el 2016')"
   ]
  },
  {
   "cell_type": "code",
   "execution_count": 173,
   "metadata": {},
   "outputs": [
    {
     "data": {
      "text/plain": [
       "Text(0.5, 1.0, 'Histograma Mes en el 2017')"
      ]
     },
     "execution_count": 173,
     "metadata": {},
     "output_type": "execute_result"
    },
    {
     "data": {
      "image/png": "[encoded data removed]",
      "text/plain": [
       "<Figure size 432x288 with 1 Axes>"
      ]
     },
     "metadata": {
      "needs_background": "light"
     },
     "output_type": "display_data"
    }
   ],
   "source": [
    "plt.hist(Fecha_2017[\"month\"], facecolor='g', bins = 12)\n",
    "plt.xlabel('Mes')\n",
    "plt.ylabel('Cantitdad de ingresos al mes')\n",
    "plt.title('Histograma Mes en el 2017')"
   ]
  },
  {
   "cell_type": "code",
   "execution_count": 174,
   "metadata": {},
   "outputs": [
    {
     "data": {
      "text/plain": [
       "Text(0.5, 1.0, 'Histograma Mes en el 2018')"
      ]
     },
     "execution_count": 174,
     "metadata": {},
     "output_type": "execute_result"
    },
    {
     "data": {
      "image/png": "[encoded data removed]",
      "text/plain": [
       "<Figure size 432x288 with 1 Axes>"
      ]
     },
     "metadata": {
      "needs_background": "light"
     },
     "output_type": "display_data"
    }
   ],
   "source": [
    "plt.hist(Fecha_2018[\"month\"], facecolor='g', bins = 12)\n",
    "plt.xlabel('Mes')\n",
    "plt.ylabel('Cantitdad de ingresos al mes')\n",
    "plt.title('Histograma Mes en el 2018')"
   ]
  },
  {
   "cell_type": "code",
   "execution_count": 175,
   "metadata": {},
   "outputs": [
    {
     "data": {
      "text/plain": [
       "Text(0.5, 1.0, 'Histograma Mes en el 2019')"
      ]
     },
     "execution_count": 175,
     "metadata": {},
     "output_type": "execute_result"
    },
    {
     "data": {
      "image/png": "[encoded data removed]",
      "text/plain": [
       "<Figure size 432x288 with 1 Axes>"
      ]
     },
     "metadata": {
      "needs_background": "light"
     },
     "output_type": "display_data"
    }
   ],
   "source": [
    "plt.hist(Fecha_2019[\"month\"], facecolor='g', bins = 12)\n",
    "plt.xlabel('Mes')\n",
    "plt.ylabel('Cantitdad de ingresos al mes')\n",
    "plt.title('Histograma Mes en el 2019')"
   ]
  },
  {
   "cell_type": "code",
   "execution_count": 177,
   "metadata": {},
   "outputs": [
    {
     "data": {
      "text/plain": [
       "Text(0.5, 1.0, 'Histograma Mes en el 2020')"
      ]
     },
     "execution_count": 177,
     "metadata": {},
     "output_type": "execute_result"
    },
    {
     "data": {
      "image/png": "[encoded data removed]",
      "text/plain": [
       "<Figure size 432x288 with 1 Axes>"
      ]
     },
     "metadata": {
      "needs_background": "light"
     },
     "output_type": "display_data"
    }
   ],
   "source": [
    "plt.hist(Fecha_2020[\"month\"], facecolor='g', bins = 2)\n",
    "plt.xlabel('Mes')\n",
    "plt.ylabel('Cantitdad de ingresos al mes')\n",
    "plt.title('Histograma Mes en el 2020')"
   ]
  },
  {
   "cell_type": "markdown",
   "metadata": {},
   "source": [
    "# Cantidad de ingresos por niño"
   ]
  },
  {
   "cell_type": "code",
   "execution_count": 178,
   "metadata": {},
   "outputs": [
    {
     "data": {
      "text/html": [
       "<div>\n",
       "<style scoped>\n",
       "    .dataframe tbody tr th:only-of-type {\n",
       "        vertical-align: middle;\n",
       "    }\n",
       "\n",
       "    .dataframe tbody tr th {\n",
       "        vertical-align: top;\n",
       "    }\n",
       "\n",
       "    .dataframe thead th {\n",
       "        text-align: right;\n",
       "    }\n",
       "</style>\n",
       "<table border=\"1\" class=\"dataframe\">\n",
       "  <thead>\n",
       "    <tr style=\"text-align: right;\">\n",
       "      <th></th>\n",
       "      <th>codnino</th>\n",
       "      <th>fechanacimiento</th>\n",
       "      <th>ICodIE</th>\n",
       "      <th>CodProyecto</th>\n",
       "      <th>CodNino</th>\n",
       "      <th>FechaIngreso</th>\n",
       "      <th>CodModeloIntervencion</th>\n",
       "      <th>Edad</th>\n",
       "    </tr>\n",
       "  </thead>\n",
       "  <tbody>\n",
       "    <tr>\n",
       "      <th>0</th>\n",
       "      <td>133944</td>\n",
       "      <td>1989-12-06 00:00:00.000</td>\n",
       "      <td>3292717</td>\n",
       "      <td>1100235</td>\n",
       "      <td>133944</td>\n",
       "      <td>2007-09-05 00:00:00.000</td>\n",
       "      <td>99</td>\n",
       "      <td>18</td>\n",
       "    </tr>\n",
       "    <tr>\n",
       "      <th>1</th>\n",
       "      <td>133944</td>\n",
       "      <td>1989-12-06 00:00:00.000</td>\n",
       "      <td>3329394</td>\n",
       "      <td>1100221</td>\n",
       "      <td>133944</td>\n",
       "      <td>2007-11-12 00:00:00.000</td>\n",
       "      <td>100</td>\n",
       "      <td>18</td>\n",
       "    </tr>\n",
       "    <tr>\n",
       "      <th>2</th>\n",
       "      <td>133944</td>\n",
       "      <td>1989-12-06 00:00:00.000</td>\n",
       "      <td>3518567</td>\n",
       "      <td>1100225</td>\n",
       "      <td>133944</td>\n",
       "      <td>2009-01-21 00:00:00.000</td>\n",
       "      <td>103</td>\n",
       "      <td>20</td>\n",
       "    </tr>\n",
       "    <tr>\n",
       "      <th>3</th>\n",
       "      <td>133944</td>\n",
       "      <td>1989-12-06 00:00:00.000</td>\n",
       "      <td>3586051</td>\n",
       "      <td>1100235</td>\n",
       "      <td>133944</td>\n",
       "      <td>2009-07-22 00:00:00.000</td>\n",
       "      <td>99</td>\n",
       "      <td>20</td>\n",
       "    </tr>\n",
       "    <tr>\n",
       "      <th>4</th>\n",
       "      <td>133944</td>\n",
       "      <td>1989-12-06 00:00:00.000</td>\n",
       "      <td>3724427</td>\n",
       "      <td>1140018</td>\n",
       "      <td>133944</td>\n",
       "      <td>2009-07-22 00:00:00.000</td>\n",
       "      <td>99</td>\n",
       "      <td>20</td>\n",
       "    </tr>\n",
       "  </tbody>\n",
       "</table>\n",
       "</div>"
      ],
      "text/plain": [
       "   codnino          fechanacimiento   ICodIE  CodProyecto  CodNino  \\\n",
       "0   133944  1989-12-06 00:00:00.000  3292717      1100235   133944   \n",
       "1   133944  1989-12-06 00:00:00.000  3329394      1100221   133944   \n",
       "2   133944  1989-12-06 00:00:00.000  3518567      1100225   133944   \n",
       "3   133944  1989-12-06 00:00:00.000  3586051      1100235   133944   \n",
       "4   133944  1989-12-06 00:00:00.000  3724427      1140018   133944   \n",
       "\n",
       "              FechaIngreso  CodModeloIntervencion  Edad  \n",
       "0  2007-09-05 00:00:00.000                     99    18  \n",
       "1  2007-11-12 00:00:00.000                    100    18  \n",
       "2  2009-01-21 00:00:00.000                    103    20  \n",
       "3  2009-07-22 00:00:00.000                     99    20  \n",
       "4  2009-07-22 00:00:00.000                     99    20  "
      ]
     },
     "execution_count": 178,
     "metadata": {},
     "output_type": "execute_result"
    }
   ],
   "source": [
    "data.head()"
   ]
  },
  {
   "cell_type": "code",
   "execution_count": 209,
   "metadata": {},
   "outputs": [
    {
     "data": {
      "text/plain": [
       "count    77033.000000\n",
       "mean         3.507756\n",
       "std          3.951311\n",
       "min          1.000000\n",
       "25%          1.000000\n",
       "50%          2.000000\n",
       "75%          4.000000\n",
       "max         62.000000\n",
       "dtype: float64"
      ]
     },
     "execution_count": 209,
     "metadata": {},
     "output_type": "execute_result"
    }
   ],
   "source": [
    "grouped_nino = data.groupby(\"CodNino\")\n",
    "grouped_nino.size()\n",
    "cantidad_delitos_nino = grouped_nino.size()\n",
    "cantidad_delitos_nino.describe()"
   ]
  },
  {
   "cell_type": "code",
   "execution_count": 311,
   "metadata": {},
   "outputs": [
    {
     "data": {
      "text/plain": [
       "Text(0.5, 1.0, 'Histograma Cantidad de ingresos x niño')"
      ]
     },
     "execution_count": 311,
     "metadata": {},
     "output_type": "execute_result"
    },
    {
     "data": {
      "image/png": "[encoded data removed]",
      "text/plain": [
       "<Figure size 432x288 with 1 Axes>"
      ]
     },
     "metadata": {
      "needs_background": "light"
     },
     "output_type": "display_data"
    }
   ],
   "source": [
    "plt.hist(cantidad_delitos_nino, facecolor='g', bins = 62)\n",
    "plt.xlabel('Cantidad de ingresos')\n",
    "plt.ylabel('Cantidad de ingresos x niño')\n",
    "plt.title('Histograma Cantidad de ingresos x niño')"
   ]
  },
  {
   "cell_type": "code",
   "execution_count": 251,
   "metadata": {},
   "outputs": [
    {
     "data": {
      "text/plain": [
       "23683    405014\n",
       "23684    405014\n",
       "23685    405014\n",
       "23686    405014\n",
       "23687    405014\n",
       "23688    405014\n",
       "23689    405014\n",
       "23690    405014\n",
       "23691    405014\n",
       "23692    405014\n",
       "23693    405014\n",
       "23694    405014\n",
       "23695    405014\n",
       "23696    405014\n",
       "23697    405014\n",
       "23698    405014\n",
       "23699    405014\n",
       "23700    405014\n",
       "23701    405014\n",
       "23702    405014\n",
       "23703    405014\n",
       "23704    405014\n",
       "23705    405014\n",
       "23706    405014\n",
       "23707    405014\n",
       "23708    405014\n",
       "23709    405014\n",
       "23710    405014\n",
       "23711    405014\n",
       "23712    405014\n",
       "          ...  \n",
       "23715    405014\n",
       "23716    405014\n",
       "23717    405014\n",
       "23718    405014\n",
       "23719    405014\n",
       "23720    405014\n",
       "23721    405014\n",
       "23722    405014\n",
       "23723    405014\n",
       "23724    405014\n",
       "23725    405014\n",
       "23726    405014\n",
       "23727    405014\n",
       "23728    405014\n",
       "23729    405014\n",
       "23730    405014\n",
       "23731    405014\n",
       "23732    405014\n",
       "23733    405014\n",
       "23734    405014\n",
       "23735    405014\n",
       "23736    405014\n",
       "23737    405014\n",
       "23738    405014\n",
       "23739    405014\n",
       "23740    405014\n",
       "23741    405014\n",
       "23742    405014\n",
       "23743    405014\n",
       "23744    405014\n",
       "Name: CodNino, Length: 62, dtype: int64"
      ]
     },
     "execution_count": 251,
     "metadata": {},
     "output_type": "execute_result"
    }
   ],
   "source": [
    "grouped_nino[\"CodNino\"].filter(lambda x: x.count() == 62)"
   ]
  },
  {
   "cell_type": "code",
   "execution_count": 255,
   "metadata": {},
   "outputs": [
    {
     "data": {
      "text/html": [
       "<div>\n",
       "<style scoped>\n",
       "    .dataframe tbody tr th:only-of-type {\n",
       "        vertical-align: middle;\n",
       "    }\n",
       "\n",
       "    .dataframe tbody tr th {\n",
       "        vertical-align: top;\n",
       "    }\n",
       "\n",
       "    .dataframe thead th {\n",
       "        text-align: right;\n",
       "    }\n",
       "</style>\n",
       "<table border=\"1\" class=\"dataframe\">\n",
       "  <thead>\n",
       "    <tr style=\"text-align: right;\">\n",
       "      <th></th>\n",
       "      <th>codnino</th>\n",
       "      <th>fechanacimiento</th>\n",
       "      <th>ICodIE</th>\n",
       "      <th>CodProyecto</th>\n",
       "      <th>CodNino</th>\n",
       "      <th>FechaIngreso</th>\n",
       "      <th>CodModeloIntervencion</th>\n",
       "      <th>Edad</th>\n",
       "    </tr>\n",
       "  </thead>\n",
       "  <tbody>\n",
       "    <tr>\n",
       "      <th>23683</th>\n",
       "      <td>405014</td>\n",
       "      <td>1994-01-20 00:00:00.000</td>\n",
       "      <td>3400858</td>\n",
       "      <td>1020125</td>\n",
       "      <td>405014</td>\n",
       "      <td>2008-04-16 00:00:00.000</td>\n",
       "      <td>102</td>\n",
       "      <td>14</td>\n",
       "    </tr>\n",
       "    <tr>\n",
       "      <th>23684</th>\n",
       "      <td>405014</td>\n",
       "      <td>1994-01-20 00:00:00.000</td>\n",
       "      <td>3458900</td>\n",
       "      <td>1020118</td>\n",
       "      <td>405014</td>\n",
       "      <td>2008-09-12 00:00:00.000</td>\n",
       "      <td>103</td>\n",
       "      <td>14</td>\n",
       "    </tr>\n",
       "    <tr>\n",
       "      <th>23685</th>\n",
       "      <td>405014</td>\n",
       "      <td>1994-01-20 00:00:00.000</td>\n",
       "      <td>3461252</td>\n",
       "      <td>1020117</td>\n",
       "      <td>405014</td>\n",
       "      <td>2008-09-12 00:00:00.000</td>\n",
       "      <td>99</td>\n",
       "      <td>14</td>\n",
       "    </tr>\n",
       "    <tr>\n",
       "      <th>23686</th>\n",
       "      <td>405014</td>\n",
       "      <td>1994-01-20 00:00:00.000</td>\n",
       "      <td>3525135</td>\n",
       "      <td>1020125</td>\n",
       "      <td>405014</td>\n",
       "      <td>2009-02-11 00:00:00.000</td>\n",
       "      <td>102</td>\n",
       "      <td>15</td>\n",
       "    </tr>\n",
       "    <tr>\n",
       "      <th>23687</th>\n",
       "      <td>405014</td>\n",
       "      <td>1994-01-20 00:00:00.000</td>\n",
       "      <td>3539222</td>\n",
       "      <td>1020116</td>\n",
       "      <td>405014</td>\n",
       "      <td>2009-03-27 00:00:00.000</td>\n",
       "      <td>77</td>\n",
       "      <td>15</td>\n",
       "    </tr>\n",
       "    <tr>\n",
       "      <th>23688</th>\n",
       "      <td>405014</td>\n",
       "      <td>1994-01-20 00:00:00.000</td>\n",
       "      <td>3561971</td>\n",
       "      <td>1020110</td>\n",
       "      <td>405014</td>\n",
       "      <td>2009-05-26 00:00:00.000</td>\n",
       "      <td>100</td>\n",
       "      <td>15</td>\n",
       "    </tr>\n",
       "    <tr>\n",
       "      <th>23689</th>\n",
       "      <td>405014</td>\n",
       "      <td>1994-01-20 00:00:00.000</td>\n",
       "      <td>3594488</td>\n",
       "      <td>1020117</td>\n",
       "      <td>405014</td>\n",
       "      <td>2009-08-21 00:00:00.000</td>\n",
       "      <td>99</td>\n",
       "      <td>15</td>\n",
       "    </tr>\n",
       "    <tr>\n",
       "      <th>23690</th>\n",
       "      <td>405014</td>\n",
       "      <td>1994-01-20 00:00:00.000</td>\n",
       "      <td>3609737</td>\n",
       "      <td>1020125</td>\n",
       "      <td>405014</td>\n",
       "      <td>2009-10-05 00:00:00.000</td>\n",
       "      <td>102</td>\n",
       "      <td>15</td>\n",
       "    </tr>\n",
       "    <tr>\n",
       "      <th>23691</th>\n",
       "      <td>405014</td>\n",
       "      <td>1994-01-20 00:00:00.000</td>\n",
       "      <td>3646662</td>\n",
       "      <td>1020110</td>\n",
       "      <td>405014</td>\n",
       "      <td>2010-01-18 00:00:00.000</td>\n",
       "      <td>100</td>\n",
       "      <td>16</td>\n",
       "    </tr>\n",
       "    <tr>\n",
       "      <th>23692</th>\n",
       "      <td>405014</td>\n",
       "      <td>1994-01-20 00:00:00.000</td>\n",
       "      <td>3651669</td>\n",
       "      <td>1020118</td>\n",
       "      <td>405014</td>\n",
       "      <td>2010-01-26 00:00:00.000</td>\n",
       "      <td>103</td>\n",
       "      <td>16</td>\n",
       "    </tr>\n",
       "    <tr>\n",
       "      <th>23693</th>\n",
       "      <td>405014</td>\n",
       "      <td>1994-01-20 00:00:00.000</td>\n",
       "      <td>3671419</td>\n",
       "      <td>1020112</td>\n",
       "      <td>405014</td>\n",
       "      <td>2010-03-05 00:00:00.000</td>\n",
       "      <td>101</td>\n",
       "      <td>16</td>\n",
       "    </tr>\n",
       "    <tr>\n",
       "      <th>23694</th>\n",
       "      <td>405014</td>\n",
       "      <td>1994-01-20 00:00:00.000</td>\n",
       "      <td>3678698</td>\n",
       "      <td>1020110</td>\n",
       "      <td>405014</td>\n",
       "      <td>2010-04-17 00:00:00.000</td>\n",
       "      <td>100</td>\n",
       "      <td>16</td>\n",
       "    </tr>\n",
       "    <tr>\n",
       "      <th>23695</th>\n",
       "      <td>405014</td>\n",
       "      <td>1994-01-20 00:00:00.000</td>\n",
       "      <td>3691255</td>\n",
       "      <td>1020110</td>\n",
       "      <td>405014</td>\n",
       "      <td>2010-05-18 00:00:00.000</td>\n",
       "      <td>100</td>\n",
       "      <td>16</td>\n",
       "    </tr>\n",
       "    <tr>\n",
       "      <th>23696</th>\n",
       "      <td>405014</td>\n",
       "      <td>1994-01-20 00:00:00.000</td>\n",
       "      <td>3704103</td>\n",
       "      <td>1020110</td>\n",
       "      <td>405014</td>\n",
       "      <td>2010-06-17 00:00:00.000</td>\n",
       "      <td>100</td>\n",
       "      <td>16</td>\n",
       "    </tr>\n",
       "    <tr>\n",
       "      <th>23697</th>\n",
       "      <td>405014</td>\n",
       "      <td>1994-01-20 00:00:00.000</td>\n",
       "      <td>3710633</td>\n",
       "      <td>1020164</td>\n",
       "      <td>405014</td>\n",
       "      <td>2010-06-18 00:00:00.000</td>\n",
       "      <td>99</td>\n",
       "      <td>16</td>\n",
       "    </tr>\n",
       "    <tr>\n",
       "      <th>23698</th>\n",
       "      <td>405014</td>\n",
       "      <td>1994-01-20 00:00:00.000</td>\n",
       "      <td>3711387</td>\n",
       "      <td>1020165</td>\n",
       "      <td>405014</td>\n",
       "      <td>2010-01-26 00:00:00.000</td>\n",
       "      <td>103</td>\n",
       "      <td>16</td>\n",
       "    </tr>\n",
       "    <tr>\n",
       "      <th>23699</th>\n",
       "      <td>405014</td>\n",
       "      <td>1994-01-20 00:00:00.000</td>\n",
       "      <td>3731273</td>\n",
       "      <td>1020110</td>\n",
       "      <td>405014</td>\n",
       "      <td>2010-08-12 00:00:00.000</td>\n",
       "      <td>100</td>\n",
       "      <td>16</td>\n",
       "    </tr>\n",
       "    <tr>\n",
       "      <th>23700</th>\n",
       "      <td>405014</td>\n",
       "      <td>1994-01-20 00:00:00.000</td>\n",
       "      <td>3731581</td>\n",
       "      <td>1020122</td>\n",
       "      <td>405014</td>\n",
       "      <td>2010-08-16 00:00:00.000</td>\n",
       "      <td>77</td>\n",
       "      <td>16</td>\n",
       "    </tr>\n",
       "    <tr>\n",
       "      <th>23701</th>\n",
       "      <td>405014</td>\n",
       "      <td>1994-01-20 00:00:00.000</td>\n",
       "      <td>3734852</td>\n",
       "      <td>1020110</td>\n",
       "      <td>405014</td>\n",
       "      <td>2010-08-24 00:00:00.000</td>\n",
       "      <td>100</td>\n",
       "      <td>16</td>\n",
       "    </tr>\n",
       "    <tr>\n",
       "      <th>23702</th>\n",
       "      <td>405014</td>\n",
       "      <td>1994-01-20 00:00:00.000</td>\n",
       "      <td>3742478</td>\n",
       "      <td>1020110</td>\n",
       "      <td>405014</td>\n",
       "      <td>2010-09-13 00:00:00.000</td>\n",
       "      <td>100</td>\n",
       "      <td>16</td>\n",
       "    </tr>\n",
       "    <tr>\n",
       "      <th>23703</th>\n",
       "      <td>405014</td>\n",
       "      <td>1994-01-20 00:00:00.000</td>\n",
       "      <td>3743276</td>\n",
       "      <td>1020110</td>\n",
       "      <td>405014</td>\n",
       "      <td>2010-09-15 00:00:00.000</td>\n",
       "      <td>100</td>\n",
       "      <td>16</td>\n",
       "    </tr>\n",
       "    <tr>\n",
       "      <th>23704</th>\n",
       "      <td>405014</td>\n",
       "      <td>1994-01-20 00:00:00.000</td>\n",
       "      <td>3785490</td>\n",
       "      <td>1020165</td>\n",
       "      <td>405014</td>\n",
       "      <td>2011-01-14 00:00:00.000</td>\n",
       "      <td>103</td>\n",
       "      <td>17</td>\n",
       "    </tr>\n",
       "    <tr>\n",
       "      <th>23705</th>\n",
       "      <td>405014</td>\n",
       "      <td>1994-01-20 00:00:00.000</td>\n",
       "      <td>3787797</td>\n",
       "      <td>1020164</td>\n",
       "      <td>405014</td>\n",
       "      <td>2011-01-20 00:00:00.000</td>\n",
       "      <td>99</td>\n",
       "      <td>17</td>\n",
       "    </tr>\n",
       "    <tr>\n",
       "      <th>23706</th>\n",
       "      <td>405014</td>\n",
       "      <td>1994-01-20 00:00:00.000</td>\n",
       "      <td>3787995</td>\n",
       "      <td>1020122</td>\n",
       "      <td>405014</td>\n",
       "      <td>2011-01-11 00:00:00.000</td>\n",
       "      <td>77</td>\n",
       "      <td>17</td>\n",
       "    </tr>\n",
       "    <tr>\n",
       "      <th>23707</th>\n",
       "      <td>405014</td>\n",
       "      <td>1994-01-20 00:00:00.000</td>\n",
       "      <td>3792082</td>\n",
       "      <td>1020112</td>\n",
       "      <td>405014</td>\n",
       "      <td>2011-01-13 00:00:00.000</td>\n",
       "      <td>101</td>\n",
       "      <td>17</td>\n",
       "    </tr>\n",
       "    <tr>\n",
       "      <th>23708</th>\n",
       "      <td>405014</td>\n",
       "      <td>1994-01-20 00:00:00.000</td>\n",
       "      <td>3796648</td>\n",
       "      <td>1020110</td>\n",
       "      <td>405014</td>\n",
       "      <td>2011-02-10 00:00:00.000</td>\n",
       "      <td>100</td>\n",
       "      <td>17</td>\n",
       "    </tr>\n",
       "    <tr>\n",
       "      <th>23709</th>\n",
       "      <td>405014</td>\n",
       "      <td>1994-01-20 00:00:00.000</td>\n",
       "      <td>3797125</td>\n",
       "      <td>1020110</td>\n",
       "      <td>405014</td>\n",
       "      <td>2011-02-11 00:00:00.000</td>\n",
       "      <td>100</td>\n",
       "      <td>17</td>\n",
       "    </tr>\n",
       "    <tr>\n",
       "      <th>23710</th>\n",
       "      <td>405014</td>\n",
       "      <td>1994-01-20 00:00:00.000</td>\n",
       "      <td>3833157</td>\n",
       "      <td>1020112</td>\n",
       "      <td>405014</td>\n",
       "      <td>2011-05-09 00:00:00.000</td>\n",
       "      <td>101</td>\n",
       "      <td>17</td>\n",
       "    </tr>\n",
       "    <tr>\n",
       "      <th>23711</th>\n",
       "      <td>405014</td>\n",
       "      <td>1994-01-20 00:00:00.000</td>\n",
       "      <td>3834837</td>\n",
       "      <td>1020165</td>\n",
       "      <td>405014</td>\n",
       "      <td>2011-05-12 00:00:00.000</td>\n",
       "      <td>103</td>\n",
       "      <td>17</td>\n",
       "    </tr>\n",
       "    <tr>\n",
       "      <th>23712</th>\n",
       "      <td>405014</td>\n",
       "      <td>1994-01-20 00:00:00.000</td>\n",
       "      <td>3837297</td>\n",
       "      <td>1020164</td>\n",
       "      <td>405014</td>\n",
       "      <td>2011-05-20 00:00:00.000</td>\n",
       "      <td>99</td>\n",
       "      <td>17</td>\n",
       "    </tr>\n",
       "    <tr>\n",
       "      <th>...</th>\n",
       "      <td>...</td>\n",
       "      <td>...</td>\n",
       "      <td>...</td>\n",
       "      <td>...</td>\n",
       "      <td>...</td>\n",
       "      <td>...</td>\n",
       "      <td>...</td>\n",
       "      <td>...</td>\n",
       "    </tr>\n",
       "    <tr>\n",
       "      <th>23715</th>\n",
       "      <td>405014</td>\n",
       "      <td>1994-01-20 00:00:00.000</td>\n",
       "      <td>3880183</td>\n",
       "      <td>1020111</td>\n",
       "      <td>405014</td>\n",
       "      <td>2011-09-22 00:00:00.000</td>\n",
       "      <td>104</td>\n",
       "      <td>17</td>\n",
       "    </tr>\n",
       "    <tr>\n",
       "      <th>23716</th>\n",
       "      <td>405014</td>\n",
       "      <td>1994-01-20 00:00:00.000</td>\n",
       "      <td>3882763</td>\n",
       "      <td>1020177</td>\n",
       "      <td>405014</td>\n",
       "      <td>2011-09-27 00:00:00.000</td>\n",
       "      <td>102</td>\n",
       "      <td>17</td>\n",
       "    </tr>\n",
       "    <tr>\n",
       "      <th>23717</th>\n",
       "      <td>405014</td>\n",
       "      <td>1994-01-20 00:00:00.000</td>\n",
       "      <td>3912793</td>\n",
       "      <td>1020165</td>\n",
       "      <td>405014</td>\n",
       "      <td>2011-12-23 00:00:00.000</td>\n",
       "      <td>103</td>\n",
       "      <td>17</td>\n",
       "    </tr>\n",
       "    <tr>\n",
       "      <th>23718</th>\n",
       "      <td>405014</td>\n",
       "      <td>1994-01-20 00:00:00.000</td>\n",
       "      <td>3912824</td>\n",
       "      <td>1020112</td>\n",
       "      <td>405014</td>\n",
       "      <td>2011-12-22 00:00:00.000</td>\n",
       "      <td>101</td>\n",
       "      <td>17</td>\n",
       "    </tr>\n",
       "    <tr>\n",
       "      <th>23719</th>\n",
       "      <td>405014</td>\n",
       "      <td>1994-01-20 00:00:00.000</td>\n",
       "      <td>3912931</td>\n",
       "      <td>1020175</td>\n",
       "      <td>405014</td>\n",
       "      <td>2011-12-22 00:00:00.000</td>\n",
       "      <td>77</td>\n",
       "      <td>17</td>\n",
       "    </tr>\n",
       "    <tr>\n",
       "      <th>23720</th>\n",
       "      <td>405014</td>\n",
       "      <td>1994-01-20 00:00:00.000</td>\n",
       "      <td>3913113</td>\n",
       "      <td>1020164</td>\n",
       "      <td>405014</td>\n",
       "      <td>2011-12-23 00:00:00.000</td>\n",
       "      <td>99</td>\n",
       "      <td>17</td>\n",
       "    </tr>\n",
       "    <tr>\n",
       "      <th>23721</th>\n",
       "      <td>405014</td>\n",
       "      <td>1994-01-20 00:00:00.000</td>\n",
       "      <td>3914454</td>\n",
       "      <td>1020177</td>\n",
       "      <td>405014</td>\n",
       "      <td>2011-12-23 00:00:00.000</td>\n",
       "      <td>102</td>\n",
       "      <td>17</td>\n",
       "    </tr>\n",
       "    <tr>\n",
       "      <th>23722</th>\n",
       "      <td>405014</td>\n",
       "      <td>1994-01-20 00:00:00.000</td>\n",
       "      <td>3914706</td>\n",
       "      <td>1020110</td>\n",
       "      <td>405014</td>\n",
       "      <td>2011-12-28 00:00:00.000</td>\n",
       "      <td>100</td>\n",
       "      <td>17</td>\n",
       "    </tr>\n",
       "    <tr>\n",
       "      <th>23723</th>\n",
       "      <td>405014</td>\n",
       "      <td>1994-01-20 00:00:00.000</td>\n",
       "      <td>3931395</td>\n",
       "      <td>1020164</td>\n",
       "      <td>405014</td>\n",
       "      <td>2012-02-16 00:00:00.000</td>\n",
       "      <td>99</td>\n",
       "      <td>18</td>\n",
       "    </tr>\n",
       "    <tr>\n",
       "      <th>23724</th>\n",
       "      <td>405014</td>\n",
       "      <td>1994-01-20 00:00:00.000</td>\n",
       "      <td>3958023</td>\n",
       "      <td>1020175</td>\n",
       "      <td>405014</td>\n",
       "      <td>2012-04-02 00:00:00.000</td>\n",
       "      <td>77</td>\n",
       "      <td>18</td>\n",
       "    </tr>\n",
       "    <tr>\n",
       "      <th>23725</th>\n",
       "      <td>405014</td>\n",
       "      <td>1994-01-20 00:00:00.000</td>\n",
       "      <td>3963043</td>\n",
       "      <td>1020165</td>\n",
       "      <td>405014</td>\n",
       "      <td>2012-04-11 00:00:00.000</td>\n",
       "      <td>103</td>\n",
       "      <td>18</td>\n",
       "    </tr>\n",
       "    <tr>\n",
       "      <th>23726</th>\n",
       "      <td>405014</td>\n",
       "      <td>1994-01-20 00:00:00.000</td>\n",
       "      <td>3966051</td>\n",
       "      <td>1020164</td>\n",
       "      <td>405014</td>\n",
       "      <td>2012-04-18 00:00:00.000</td>\n",
       "      <td>99</td>\n",
       "      <td>18</td>\n",
       "    </tr>\n",
       "    <tr>\n",
       "      <th>23727</th>\n",
       "      <td>405014</td>\n",
       "      <td>1994-01-20 00:00:00.000</td>\n",
       "      <td>3975149</td>\n",
       "      <td>1020112</td>\n",
       "      <td>405014</td>\n",
       "      <td>2012-05-03 00:00:00.000</td>\n",
       "      <td>101</td>\n",
       "      <td>18</td>\n",
       "    </tr>\n",
       "    <tr>\n",
       "      <th>23728</th>\n",
       "      <td>405014</td>\n",
       "      <td>1994-01-20 00:00:00.000</td>\n",
       "      <td>3976338</td>\n",
       "      <td>1020177</td>\n",
       "      <td>405014</td>\n",
       "      <td>2012-05-02 00:00:00.000</td>\n",
       "      <td>102</td>\n",
       "      <td>18</td>\n",
       "    </tr>\n",
       "    <tr>\n",
       "      <th>23729</th>\n",
       "      <td>405014</td>\n",
       "      <td>1994-01-20 00:00:00.000</td>\n",
       "      <td>4002777</td>\n",
       "      <td>1020194</td>\n",
       "      <td>405014</td>\n",
       "      <td>2012-04-18 00:00:00.000</td>\n",
       "      <td>99</td>\n",
       "      <td>18</td>\n",
       "    </tr>\n",
       "    <tr>\n",
       "      <th>23730</th>\n",
       "      <td>405014</td>\n",
       "      <td>1994-01-20 00:00:00.000</td>\n",
       "      <td>4002812</td>\n",
       "      <td>1020194</td>\n",
       "      <td>405014</td>\n",
       "      <td>2012-06-25 00:00:00.000</td>\n",
       "      <td>99</td>\n",
       "      <td>18</td>\n",
       "    </tr>\n",
       "    <tr>\n",
       "      <th>23731</th>\n",
       "      <td>405014</td>\n",
       "      <td>1994-01-20 00:00:00.000</td>\n",
       "      <td>4012494</td>\n",
       "      <td>1020195</td>\n",
       "      <td>405014</td>\n",
       "      <td>2012-04-11 00:00:00.000</td>\n",
       "      <td>103</td>\n",
       "      <td>18</td>\n",
       "    </tr>\n",
       "    <tr>\n",
       "      <th>23732</th>\n",
       "      <td>405014</td>\n",
       "      <td>1994-01-20 00:00:00.000</td>\n",
       "      <td>4023381</td>\n",
       "      <td>1020195</td>\n",
       "      <td>405014</td>\n",
       "      <td>2012-08-27 00:00:00.000</td>\n",
       "      <td>103</td>\n",
       "      <td>18</td>\n",
       "    </tr>\n",
       "    <tr>\n",
       "      <th>23733</th>\n",
       "      <td>405014</td>\n",
       "      <td>1994-01-20 00:00:00.000</td>\n",
       "      <td>4023440</td>\n",
       "      <td>1020194</td>\n",
       "      <td>405014</td>\n",
       "      <td>2012-08-27 00:00:00.000</td>\n",
       "      <td>99</td>\n",
       "      <td>18</td>\n",
       "    </tr>\n",
       "    <tr>\n",
       "      <th>23734</th>\n",
       "      <td>405014</td>\n",
       "      <td>1994-01-20 00:00:00.000</td>\n",
       "      <td>4023480</td>\n",
       "      <td>1020175</td>\n",
       "      <td>405014</td>\n",
       "      <td>2012-08-27 00:00:00.000</td>\n",
       "      <td>77</td>\n",
       "      <td>18</td>\n",
       "    </tr>\n",
       "    <tr>\n",
       "      <th>23735</th>\n",
       "      <td>405014</td>\n",
       "      <td>1994-01-20 00:00:00.000</td>\n",
       "      <td>4070836</td>\n",
       "      <td>1020195</td>\n",
       "      <td>405014</td>\n",
       "      <td>2012-12-31 00:00:00.000</td>\n",
       "      <td>103</td>\n",
       "      <td>18</td>\n",
       "    </tr>\n",
       "    <tr>\n",
       "      <th>23736</th>\n",
       "      <td>405014</td>\n",
       "      <td>1994-01-20 00:00:00.000</td>\n",
       "      <td>4071830</td>\n",
       "      <td>1020194</td>\n",
       "      <td>405014</td>\n",
       "      <td>2013-01-03 00:00:00.000</td>\n",
       "      <td>99</td>\n",
       "      <td>19</td>\n",
       "    </tr>\n",
       "    <tr>\n",
       "      <th>23737</th>\n",
       "      <td>405014</td>\n",
       "      <td>1994-01-20 00:00:00.000</td>\n",
       "      <td>4110690</td>\n",
       "      <td>1020194</td>\n",
       "      <td>405014</td>\n",
       "      <td>2013-04-16 00:00:00.000</td>\n",
       "      <td>99</td>\n",
       "      <td>19</td>\n",
       "    </tr>\n",
       "    <tr>\n",
       "      <th>23738</th>\n",
       "      <td>405014</td>\n",
       "      <td>1994-01-20 00:00:00.000</td>\n",
       "      <td>4110824</td>\n",
       "      <td>1020175</td>\n",
       "      <td>405014</td>\n",
       "      <td>2013-04-15 00:00:00.000</td>\n",
       "      <td>77</td>\n",
       "      <td>19</td>\n",
       "    </tr>\n",
       "    <tr>\n",
       "      <th>23739</th>\n",
       "      <td>405014</td>\n",
       "      <td>1994-01-20 00:00:00.000</td>\n",
       "      <td>4453274</td>\n",
       "      <td>1020175</td>\n",
       "      <td>405014</td>\n",
       "      <td>2015-05-28 00:00:00.000</td>\n",
       "      <td>77</td>\n",
       "      <td>21</td>\n",
       "    </tr>\n",
       "    <tr>\n",
       "      <th>23740</th>\n",
       "      <td>405014</td>\n",
       "      <td>1994-01-20 00:00:00.000</td>\n",
       "      <td>4453277</td>\n",
       "      <td>1020194</td>\n",
       "      <td>405014</td>\n",
       "      <td>2015-06-01 00:00:00.000</td>\n",
       "      <td>99</td>\n",
       "      <td>21</td>\n",
       "    </tr>\n",
       "    <tr>\n",
       "      <th>23741</th>\n",
       "      <td>405014</td>\n",
       "      <td>1994-01-20 00:00:00.000</td>\n",
       "      <td>4455131</td>\n",
       "      <td>1020112</td>\n",
       "      <td>405014</td>\n",
       "      <td>2015-05-28 00:00:00.000</td>\n",
       "      <td>101</td>\n",
       "      <td>21</td>\n",
       "    </tr>\n",
       "    <tr>\n",
       "      <th>23742</th>\n",
       "      <td>405014</td>\n",
       "      <td>1994-01-20 00:00:00.000</td>\n",
       "      <td>4484549</td>\n",
       "      <td>1020233</td>\n",
       "      <td>405014</td>\n",
       "      <td>2015-06-01 00:00:00.000</td>\n",
       "      <td>99</td>\n",
       "      <td>21</td>\n",
       "    </tr>\n",
       "    <tr>\n",
       "      <th>23743</th>\n",
       "      <td>405014</td>\n",
       "      <td>1994-01-20 00:00:00.000</td>\n",
       "      <td>4536116</td>\n",
       "      <td>1020175</td>\n",
       "      <td>405014</td>\n",
       "      <td>2015-11-16 00:00:00.000</td>\n",
       "      <td>77</td>\n",
       "      <td>21</td>\n",
       "    </tr>\n",
       "    <tr>\n",
       "      <th>23744</th>\n",
       "      <td>405014</td>\n",
       "      <td>1994-01-20 00:00:00.000</td>\n",
       "      <td>4537249</td>\n",
       "      <td>1020233</td>\n",
       "      <td>405014</td>\n",
       "      <td>2015-11-16 00:00:00.000</td>\n",
       "      <td>99</td>\n",
       "      <td>21</td>\n",
       "    </tr>\n",
       "  </tbody>\n",
       "</table>\n",
       "<p>62 rows × 8 columns</p>\n",
       "</div>"
      ],
      "text/plain": [
       "       codnino          fechanacimiento   ICodIE  CodProyecto  CodNino  \\\n",
       "23683   405014  1994-01-20 00:00:00.000  3400858      1020125   405014   \n",
       "23684   405014  1994-01-20 00:00:00.000  3458900      1020118   405014   \n",
       "23685   405014  1994-01-20 00:00:00.000  3461252      1020117   405014   \n",
       "23686   405014  1994-01-20 00:00:00.000  3525135      1020125   405014   \n",
       "23687   405014  1994-01-20 00:00:00.000  3539222      1020116   405014   \n",
       "23688   405014  1994-01-20 00:00:00.000  3561971      1020110   405014   \n",
       "23689   405014  1994-01-20 00:00:00.000  3594488      1020117   405014   \n",
       "23690   405014  1994-01-20 00:00:00.000  3609737      1020125   405014   \n",
       "23691   405014  1994-01-20 00:00:00.000  3646662      1020110   405014   \n",
       "23692   405014  1994-01-20 00:00:00.000  3651669      1020118   405014   \n",
       "23693   405014  1994-01-20 00:00:00.000  3671419      1020112   405014   \n",
       "23694   405014  1994-01-20 00:00:00.000  3678698      1020110   405014   \n",
       "23695   405014  1994-01-20 00:00:00.000  3691255      1020110   405014   \n",
       "23696   405014  1994-01-20 00:00:00.000  3704103      1020110   405014   \n",
       "23697   405014  1994-01-20 00:00:00.000  3710633      1020164   405014   \n",
       "23698   405014  1994-01-20 00:00:00.000  3711387      1020165   405014   \n",
       "23699   405014  1994-01-20 00:00:00.000  3731273      1020110   405014   \n",
       "23700   405014  1994-01-20 00:00:00.000  3731581      1020122   405014   \n",
       "23701   405014  1994-01-20 00:00:00.000  3734852      1020110   405014   \n",
       "23702   405014  1994-01-20 00:00:00.000  3742478      1020110   405014   \n",
       "23703   405014  1994-01-20 00:00:00.000  3743276      1020110   405014   \n",
       "23704   405014  1994-01-20 00:00:00.000  3785490      1020165   405014   \n",
       "23705   405014  1994-01-20 00:00:00.000  3787797      1020164   405014   \n",
       "23706   405014  1994-01-20 00:00:00.000  3787995      1020122   405014   \n",
       "23707   405014  1994-01-20 00:00:00.000  3792082      1020112   405014   \n",
       "23708   405014  1994-01-20 00:00:00.000  3796648      1020110   405014   \n",
       "23709   405014  1994-01-20 00:00:00.000  3797125      1020110   405014   \n",
       "23710   405014  1994-01-20 00:00:00.000  3833157      1020112   405014   \n",
       "23711   405014  1994-01-20 00:00:00.000  3834837      1020165   405014   \n",
       "23712   405014  1994-01-20 00:00:00.000  3837297      1020164   405014   \n",
       "...        ...                      ...      ...          ...      ...   \n",
       "23715   405014  1994-01-20 00:00:00.000  3880183      1020111   405014   \n",
       "23716   405014  1994-01-20 00:00:00.000  3882763      1020177   405014   \n",
       "23717   405014  1994-01-20 00:00:00.000  3912793      1020165   405014   \n",
       "23718   405014  1994-01-20 00:00:00.000  3912824      1020112   405014   \n",
       "23719   405014  1994-01-20 00:00:00.000  3912931      1020175   405014   \n",
       "23720   405014  1994-01-20 00:00:00.000  3913113      1020164   405014   \n",
       "23721   405014  1994-01-20 00:00:00.000  3914454      1020177   405014   \n",
       "23722   405014  1994-01-20 00:00:00.000  3914706      1020110   405014   \n",
       "23723   405014  1994-01-20 00:00:00.000  3931395      1020164   405014   \n",
       "23724   405014  1994-01-20 00:00:00.000  3958023      1020175   405014   \n",
       "23725   405014  1994-01-20 00:00:00.000  3963043      1020165   405014   \n",
       "23726   405014  1994-01-20 00:00:00.000  3966051      1020164   405014   \n",
       "23727   405014  1994-01-20 00:00:00.000  3975149      1020112   405014   \n",
       "23728   405014  1994-01-20 00:00:00.000  3976338      1020177   405014   \n",
       "23729   405014  1994-01-20 00:00:00.000  4002777      1020194   405014   \n",
       "23730   405014  1994-01-20 00:00:00.000  4002812      1020194   405014   \n",
       "23731   405014  1994-01-20 00:00:00.000  4012494      1020195   405014   \n",
       "23732   405014  1994-01-20 00:00:00.000  4023381      1020195   405014   \n",
       "23733   405014  1994-01-20 00:00:00.000  4023440      1020194   405014   \n",
       "23734   405014  1994-01-20 00:00:00.000  4023480      1020175   405014   \n",
       "23735   405014  1994-01-20 00:00:00.000  4070836      1020195   405014   \n",
       "23736   405014  1994-01-20 00:00:00.000  4071830      1020194   405014   \n",
       "23737   405014  1994-01-20 00:00:00.000  4110690      1020194   405014   \n",
       "23738   405014  1994-01-20 00:00:00.000  4110824      1020175   405014   \n",
       "23739   405014  1994-01-20 00:00:00.000  4453274      1020175   405014   \n",
       "23740   405014  1994-01-20 00:00:00.000  4453277      1020194   405014   \n",
       "23741   405014  1994-01-20 00:00:00.000  4455131      1020112   405014   \n",
       "23742   405014  1994-01-20 00:00:00.000  4484549      1020233   405014   \n",
       "23743   405014  1994-01-20 00:00:00.000  4536116      1020175   405014   \n",
       "23744   405014  1994-01-20 00:00:00.000  4537249      1020233   405014   \n",
       "\n",
       "                  FechaIngreso  CodModeloIntervencion  Edad  \n",
       "23683  2008-04-16 00:00:00.000                    102    14  \n",
       "23684  2008-09-12 00:00:00.000                    103    14  \n",
       "23685  2008-09-12 00:00:00.000                     99    14  \n",
       "23686  2009-02-11 00:00:00.000                    102    15  \n",
       "23687  2009-03-27 00:00:00.000                     77    15  \n",
       "23688  2009-05-26 00:00:00.000                    100    15  \n",
       "23689  2009-08-21 00:00:00.000                     99    15  \n",
       "23690  2009-10-05 00:00:00.000                    102    15  \n",
       "23691  2010-01-18 00:00:00.000                    100    16  \n",
       "23692  2010-01-26 00:00:00.000                    103    16  \n",
       "23693  2010-03-05 00:00:00.000                    101    16  \n",
       "23694  2010-04-17 00:00:00.000                    100    16  \n",
       "23695  2010-05-18 00:00:00.000                    100    16  \n",
       "23696  2010-06-17 00:00:00.000                    100    16  \n",
       "23697  2010-06-18 00:00:00.000                     99    16  \n",
       "23698  2010-01-26 00:00:00.000                    103    16  \n",
       "23699  2010-08-12 00:00:00.000                    100    16  \n",
       "23700  2010-08-16 00:00:00.000                     77    16  \n",
       "23701  2010-08-24 00:00:00.000                    100    16  \n",
       "23702  2010-09-13 00:00:00.000                    100    16  \n",
       "23703  2010-09-15 00:00:00.000                    100    16  \n",
       "23704  2011-01-14 00:00:00.000                    103    17  \n",
       "23705  2011-01-20 00:00:00.000                     99    17  \n",
       "23706  2011-01-11 00:00:00.000                     77    17  \n",
       "23707  2011-01-13 00:00:00.000                    101    17  \n",
       "23708  2011-02-10 00:00:00.000                    100    17  \n",
       "23709  2011-02-11 00:00:00.000                    100    17  \n",
       "23710  2011-05-09 00:00:00.000                    101    17  \n",
       "23711  2011-05-12 00:00:00.000                    103    17  \n",
       "23712  2011-05-20 00:00:00.000                     99    17  \n",
       "...                        ...                    ...   ...  \n",
       "23715  2011-09-22 00:00:00.000                    104    17  \n",
       "23716  2011-09-27 00:00:00.000                    102    17  \n",
       "23717  2011-12-23 00:00:00.000                    103    17  \n",
       "23718  2011-12-22 00:00:00.000                    101    17  \n",
       "23719  2011-12-22 00:00:00.000                     77    17  \n",
       "23720  2011-12-23 00:00:00.000                     99    17  \n",
       "23721  2011-12-23 00:00:00.000                    102    17  \n",
       "23722  2011-12-28 00:00:00.000                    100    17  \n",
       "23723  2012-02-16 00:00:00.000                     99    18  \n",
       "23724  2012-04-02 00:00:00.000                     77    18  \n",
       "23725  2012-04-11 00:00:00.000                    103    18  \n",
       "23726  2012-04-18 00:00:00.000                     99    18  \n",
       "23727  2012-05-03 00:00:00.000                    101    18  \n",
       "23728  2012-05-02 00:00:00.000                    102    18  \n",
       "23729  2012-04-18 00:00:00.000                     99    18  \n",
       "23730  2012-06-25 00:00:00.000                     99    18  \n",
       "23731  2012-04-11 00:00:00.000                    103    18  \n",
       "23732  2012-08-27 00:00:00.000                    103    18  \n",
       "23733  2012-08-27 00:00:00.000                     99    18  \n",
       "23734  2012-08-27 00:00:00.000                     77    18  \n",
       "23735  2012-12-31 00:00:00.000                    103    18  \n",
       "23736  2013-01-03 00:00:00.000                     99    19  \n",
       "23737  2013-04-16 00:00:00.000                     99    19  \n",
       "23738  2013-04-15 00:00:00.000                     77    19  \n",
       "23739  2015-05-28 00:00:00.000                     77    21  \n",
       "23740  2015-06-01 00:00:00.000                     99    21  \n",
       "23741  2015-05-28 00:00:00.000                    101    21  \n",
       "23742  2015-06-01 00:00:00.000                     99    21  \n",
       "23743  2015-11-16 00:00:00.000                     77    21  \n",
       "23744  2015-11-16 00:00:00.000                     99    21  \n",
       "\n",
       "[62 rows x 8 columns]"
      ]
     },
     "execution_count": 255,
     "metadata": {},
     "output_type": "execute_result"
    }
   ],
   "source": [
    "data[data[\"CodNino\"]== 405014]"
   ]
  },
  {
   "cell_type": "markdown",
   "metadata": {},
   "source": [
    "# Importo modelo de intervención"
   ]
  },
  {
   "cell_type": "code",
   "execution_count": 256,
   "metadata": {},
   "outputs": [],
   "source": [
    "df_M_intervencion = pd.read_excel(mainpath_xls + \"/\" + filename, \"parModeloIntervencion\")"
   ]
  },
  {
   "cell_type": "code",
   "execution_count": 257,
   "metadata": {},
   "outputs": [
    {
     "data": {
      "text/html": [
       "<div>\n",
       "<style scoped>\n",
       "    .dataframe tbody tr th:only-of-type {\n",
       "        vertical-align: middle;\n",
       "    }\n",
       "\n",
       "    .dataframe tbody tr th {\n",
       "        vertical-align: top;\n",
       "    }\n",
       "\n",
       "    .dataframe thead th {\n",
       "        text-align: right;\n",
       "    }\n",
       "</style>\n",
       "<table border=\"1\" class=\"dataframe\">\n",
       "  <thead>\n",
       "    <tr style=\"text-align: right;\">\n",
       "      <th></th>\n",
       "      <th>CodModeloIntervencion</th>\n",
       "      <th>Descripcion</th>\n",
       "      <th>IndVigencia</th>\n",
       "      <th>Nemotecnico</th>\n",
       "      <th>LRPA</th>\n",
       "    </tr>\n",
       "  </thead>\n",
       "  <tbody>\n",
       "    <tr>\n",
       "      <th>0</th>\n",
       "      <td>77</td>\n",
       "      <td>PLA - PROGRAMA DE LIBERTAD ASISTIDA</td>\n",
       "      <td>V</td>\n",
       "      <td>PLA</td>\n",
       "      <td>1</td>\n",
       "    </tr>\n",
       "    <tr>\n",
       "      <th>1</th>\n",
       "      <td>99</td>\n",
       "      <td>PLE - PROGRAMA DE LIBERTAD ASISTIDA ESPECIAL</td>\n",
       "      <td>V</td>\n",
       "      <td>PLE</td>\n",
       "      <td>1</td>\n",
       "    </tr>\n",
       "    <tr>\n",
       "      <th>2</th>\n",
       "      <td>100</td>\n",
       "      <td>CIP - CENTRO DE INTERNACION PROVISORIA</td>\n",
       "      <td>V</td>\n",
       "      <td>CIP</td>\n",
       "      <td>1</td>\n",
       "    </tr>\n",
       "    <tr>\n",
       "      <th>3</th>\n",
       "      <td>101</td>\n",
       "      <td>CSC - CENTRO SEMICERRADO</td>\n",
       "      <td>V</td>\n",
       "      <td>CSC</td>\n",
       "      <td>1</td>\n",
       "    </tr>\n",
       "    <tr>\n",
       "      <th>4</th>\n",
       "      <td>102</td>\n",
       "      <td>MCA - MEDIDA CAUTELAR AMBULATORIA</td>\n",
       "      <td>V</td>\n",
       "      <td>MCA</td>\n",
       "      <td>1</td>\n",
       "    </tr>\n",
       "  </tbody>\n",
       "</table>\n",
       "</div>"
      ],
      "text/plain": [
       "   CodModeloIntervencion                                   Descripcion  \\\n",
       "0                     77           PLA - PROGRAMA DE LIBERTAD ASISTIDA   \n",
       "1                     99  PLE - PROGRAMA DE LIBERTAD ASISTIDA ESPECIAL   \n",
       "2                    100        CIP - CENTRO DE INTERNACION PROVISORIA   \n",
       "3                    101                      CSC - CENTRO SEMICERRADO   \n",
       "4                    102             MCA - MEDIDA CAUTELAR AMBULATORIA   \n",
       "\n",
       "  IndVigencia Nemotecnico  LRPA  \n",
       "0           V         PLA     1  \n",
       "1           V         PLE     1  \n",
       "2           V         CIP     1  \n",
       "3           V         CSC     1  \n",
       "4           V         MCA     1  "
      ]
     },
     "execution_count": 257,
     "metadata": {},
     "output_type": "execute_result"
    }
   ],
   "source": [
    "df_M_intervencion.head()"
   ]
  },
  {
   "cell_type": "markdown",
   "metadata": {},
   "source": [
    "# Agrupo entradas de clientes por fechas"
   ]
  },
  {
   "cell_type": "code",
   "execution_count": 305,
   "metadata": {},
   "outputs": [
    {
     "data": {
      "text/plain": [
       "(236197, 3)"
      ]
     },
     "execution_count": 305,
     "metadata": {},
     "output_type": "execute_result"
    }
   ],
   "source": [
    "# Filtro las fechas de entrada x cliente y elimino los duplicados\n",
    "sublist = [\"CodNino\", \"FechaIngreso\", \"Edad\"]\n",
    "df_cliente_fecha = data[sublist]\n",
    "df_cliente_fecha = df_cliente_fecha.drop_duplicates()\n",
    "df_cliente_fecha.head()\n",
    "df_cliente_fecha.shape"
   ]
  },
  {
   "cell_type": "markdown",
   "metadata": {},
   "source": [
    "## Vuelvo a realizar los histogramas en base al filtro anterior"
   ]
  },
  {
   "cell_type": "code",
   "execution_count": 278,
   "metadata": {},
   "outputs": [],
   "source": [
    "AnoMesIngreso = pd.to_datetime(df_cliente_fecha[\"FechaIngreso\"]).apply(lambda x: str(x.year))+'-'+pd.to_datetime(df_cliente_fecha[\"FechaIngreso\"]).apply(lambda x: str(x.month))\n",
    "AnoIngreso = pd.to_datetime(df_cliente_fecha[\"FechaIngreso\"]).apply(lambda x: x.year)\n",
    "MesIngreso = pd.to_datetime(df_cliente_fecha[\"FechaIngreso\"]).apply(lambda x: x.month)\n",
    "\n",
    "Fecha_Ingreso = pd.DataFrame(\n",
    "    {\n",
    "        \"date\": AnoMesIngreso,\n",
    "        \"year\" : AnoIngreso,\n",
    "        \"month\" : MesIngreso\n",
    "     }\n",
    ")"
   ]
  },
  {
   "cell_type": "code",
   "execution_count": 281,
   "metadata": {},
   "outputs": [
    {
     "data": {
      "text/plain": [
       "(236197, 3)"
      ]
     },
     "execution_count": 281,
     "metadata": {},
     "output_type": "execute_result"
    }
   ],
   "source": [
    "Fecha_Ingreso.shape"
   ]
  },
  {
   "cell_type": "code",
   "execution_count": 283,
   "metadata": {},
   "outputs": [
    {
     "data": {
      "text/plain": [
       "Text(0.5, 1.0, 'Histograma por año')"
      ]
     },
     "execution_count": 283,
     "metadata": {},
     "output_type": "execute_result"
    },
    {
     "data": {
      "image/png": "[encoded data removed]",
      "text/plain": [
       "<Figure size 432x288 with 1 Axes>"
      ]
     },
     "metadata": {
      "needs_background": "light"
     },
     "output_type": "display_data"
    }
   ],
   "source": [
    "plt.hist(Fecha_Ingreso[\"year\"], facecolor='g', bins = 14)\n",
    "plt.xlabel('Año')\n",
    "plt.ylabel('Cantitdad de ingresos al año')\n",
    "plt.title('Histograma por año')"
   ]
  },
  {
   "cell_type": "code",
   "execution_count": 284,
   "metadata": {},
   "outputs": [
    {
     "data": {
      "text/plain": [
       "year\n",
       "2007     8360\n",
       "2008    19808\n",
       "2009    21649\n",
       "2010    21782\n",
       "2011    20707\n",
       "2012    20073\n",
       "2013    20542\n",
       "2014    19635\n",
       "2015    19418\n",
       "2016    18481\n",
       "2017    16608\n",
       "2018    14730\n",
       "2019    12673\n",
       "2020     1731\n",
       "dtype: int64"
      ]
     },
     "execution_count": 284,
     "metadata": {},
     "output_type": "execute_result"
    }
   ],
   "source": [
    "grouped_year = Fecha_Ingreso.groupby(\"year\")\n",
    "grouped_year.size()"
   ]
  },
  {
   "cell_type": "code",
   "execution_count": 285,
   "metadata": {},
   "outputs": [],
   "source": [
    "Fecha_2007=Fecha_Ingreso[(Fecha_Ingreso[\"year\"]==2007)]\n",
    "Fecha_2008=Fecha_Ingreso[(Fecha_Ingreso[\"year\"]==2008)]\n",
    "Fecha_2009=Fecha_Ingreso[(Fecha_Ingreso[\"year\"]==2009)]\n",
    "Fecha_2010=Fecha_Ingreso[(Fecha_Ingreso[\"year\"]==2010)]\n",
    "Fecha_2011=Fecha_Ingreso[(Fecha_Ingreso[\"year\"]==2011)]\n",
    "Fecha_2012=Fecha_Ingreso[(Fecha_Ingreso[\"year\"]==2012)]\n",
    "Fecha_2013=Fecha_Ingreso[(Fecha_Ingreso[\"year\"]==2013)]\n",
    "Fecha_2014=Fecha_Ingreso[(Fecha_Ingreso[\"year\"]==2014)]\n",
    "Fecha_2015=Fecha_Ingreso[(Fecha_Ingreso[\"year\"]==2015)]\n",
    "Fecha_2016=Fecha_Ingreso[(Fecha_Ingreso[\"year\"]==2016)]\n",
    "Fecha_2017=Fecha_Ingreso[(Fecha_Ingreso[\"year\"]==2017)]\n",
    "Fecha_2018=Fecha_Ingreso[(Fecha_Ingreso[\"year\"]==2018)]\n",
    "Fecha_2019=Fecha_Ingreso[(Fecha_Ingreso[\"year\"]==2019)]\n",
    "Fecha_2020=Fecha_Ingreso[(Fecha_Ingreso[\"year\"]==2020)]"
   ]
  },
  {
   "cell_type": "code",
   "execution_count": 286,
   "metadata": {},
   "outputs": [
    {
     "data": {
      "text/plain": [
       "Text(0.5, 1.0, 'Histograma Mes en el 2007')"
      ]
     },
     "execution_count": 286,
     "metadata": {},
     "output_type": "execute_result"
    },
    {
     "data": {
      "image/png": "[encoded data removed]",
      "text/plain": [
       "<Figure size 432x288 with 1 Axes>"
      ]
     },
     "metadata": {
      "needs_background": "light"
     },
     "output_type": "display_data"
    }
   ],
   "source": [
    "plt.hist(Fecha_2007[\"month\"], facecolor='g', bins = 12)\n",
    "plt.xlabel('Mes')\n",
    "plt.ylabel('Cantitdad de ingresos al mes')\n",
    "plt.title('Histograma Mes en el 2007')"
   ]
  },
  {
   "cell_type": "code",
   "execution_count": 287,
   "metadata": {},
   "outputs": [
    {
     "data": {
      "text/plain": [
       "Text(0.5, 1.0, 'Histograma Mes en el 2008')"
      ]
     },
     "execution_count": 287,
     "metadata": {},
     "output_type": "execute_result"
    },
    {
     "data": {
      "image/png": "[encoded data removed]",
      "text/plain": [
       "<Figure size 432x288 with 1 Axes>"
      ]
     },
     "metadata": {
      "needs_background": "light"
     },
     "output_type": "display_data"
    }
   ],
   "source": [
    "plt.hist(Fecha_2008[\"month\"], facecolor='g', bins = 12)\n",
    "plt.xlabel('Mes')\n",
    "plt.ylabel('Cantitdad de ingresos al mes')\n",
    "plt.title('Histograma Mes en el 2008')"
   ]
  },
  {
   "cell_type": "code",
   "execution_count": 288,
   "metadata": {},
   "outputs": [
    {
     "data": {
      "text/plain": [
       "Text(0.5, 1.0, 'Histograma Mes en el 2009')"
      ]
     },
     "execution_count": 288,
     "metadata": {},
     "output_type": "execute_result"
    },
    {
     "data": {
      "image/png": "[encoded data removed]",
      "text/plain": [
       "<Figure size 432x288 with 1 Axes>"
      ]
     },
     "metadata": {
      "needs_background": "light"
     },
     "output_type": "display_data"
    }
   ],
   "source": [
    "plt.hist(Fecha_2009[\"month\"], facecolor='g', bins = 12)\n",
    "plt.xlabel('Mes')\n",
    "plt.ylabel('Cantitdad de ingresos al mes')\n",
    "plt.title('Histograma Mes en el 2009')"
   ]
  },
  {
   "cell_type": "code",
   "execution_count": 290,
   "metadata": {},
   "outputs": [
    {
     "data": {
      "text/plain": [
       "Text(0.5, 1.0, 'Histograma Mes en el 2010')"
      ]
     },
     "execution_count": 290,
     "metadata": {},
     "output_type": "execute_result"
    },
    {
     "data": {
      "image/png": "[encoded data removed]",
      "text/plain": [
       "<Figure size 432x288 with 1 Axes>"
      ]
     },
     "metadata": {
      "needs_background": "light"
     },
     "output_type": "display_data"
    }
   ],
   "source": [
    "plt.hist(Fecha_2010[\"month\"], facecolor='g', bins = 12)\n",
    "plt.xlabel('Mes')\n",
    "plt.ylabel('Cantitdad de ingresos al mes')\n",
    "plt.title('Histograma Mes en el 2010')"
   ]
  },
  {
   "cell_type": "code",
   "execution_count": 291,
   "metadata": {},
   "outputs": [
    {
     "data": {
      "text/plain": [
       "Text(0.5, 1.0, 'Histograma Mes en el 2011')"
      ]
     },
     "execution_count": 291,
     "metadata": {},
     "output_type": "execute_result"
    },
    {
     "data": {
      "image/png": "[encoded data removed]",
      "text/plain": [
       "<Figure size 432x288 with 1 Axes>"
      ]
     },
     "metadata": {
      "needs_background": "light"
     },
     "output_type": "display_data"
    }
   ],
   "source": [
    "plt.hist(Fecha_2011[\"month\"], facecolor='g', bins = 12)\n",
    "plt.xlabel('Mes')\n",
    "plt.ylabel('Cantitdad de ingresos al mes')\n",
    "plt.title('Histograma Mes en el 2011')"
   ]
  },
  {
   "cell_type": "code",
   "execution_count": 292,
   "metadata": {},
   "outputs": [
    {
     "data": {
      "text/plain": [
       "Text(0.5, 1.0, 'Histograma Mes en el 2012')"
      ]
     },
     "execution_count": 292,
     "metadata": {},
     "output_type": "execute_result"
    },
    {
     "data": {
      "image/png": "[encoded data removed]",
      "text/plain": [
       "<Figure size 432x288 with 1 Axes>"
      ]
     },
     "metadata": {
      "needs_background": "light"
     },
     "output_type": "display_data"
    }
   ],
   "source": [
    "plt.hist(Fecha_2012[\"month\"], facecolor='g', bins = 12)\n",
    "plt.xlabel('Mes')\n",
    "plt.ylabel('Cantitdad de ingresos al mes')\n",
    "plt.title('Histograma Mes en el 2012')"
   ]
  },
  {
   "cell_type": "code",
   "execution_count": 293,
   "metadata": {},
   "outputs": [
    {
     "data": {
      "text/plain": [
       "Text(0.5, 1.0, 'Histograma Mes en el 2013')"
      ]
     },
     "execution_count": 293,
     "metadata": {},
     "output_type": "execute_result"
    },
    {
     "data": {
      "image/png": "[encoded data removed]",
      "text/plain": [
       "<Figure size 432x288 with 1 Axes>"
      ]
     },
     "metadata": {
      "needs_background": "light"
     },
     "output_type": "display_data"
    }
   ],
   "source": [
    "plt.hist(Fecha_2013[\"month\"], facecolor='g', bins = 12)\n",
    "plt.xlabel('Mes')\n",
    "plt.ylabel('Cantitdad de ingresos al mes')\n",
    "plt.title('Histograma Mes en el 2013')"
   ]
  },
  {
   "cell_type": "code",
   "execution_count": 294,
   "metadata": {},
   "outputs": [
    {
     "data": {
      "text/plain": [
       "Text(0.5, 1.0, 'Histograma Mes en el 2014')"
      ]
     },
     "execution_count": 294,
     "metadata": {},
     "output_type": "execute_result"
    },
    {
     "data": {
      "image/png": "[encoded data removed]",
      "text/plain": [
       "<Figure size 432x288 with 1 Axes>"
      ]
     },
     "metadata": {
      "needs_background": "light"
     },
     "output_type": "display_data"
    }
   ],
   "source": [
    "plt.hist(Fecha_2014[\"month\"], facecolor='g', bins = 12)\n",
    "plt.xlabel('Mes')\n",
    "plt.ylabel('Cantitdad de ingresos al mes')\n",
    "plt.title('Histograma Mes en el 2014')"
   ]
  },
  {
   "cell_type": "code",
   "execution_count": 295,
   "metadata": {},
   "outputs": [
    {
     "data": {
      "text/plain": [
       "Text(0.5, 1.0, 'Histograma Mes en el 2015')"
      ]
     },
     "execution_count": 295,
     "metadata": {},
     "output_type": "execute_result"
    },
    {
     "data": {
      "image/png": "[encoded data removed]",
      "text/plain": [
       "<Figure size 432x288 with 1 Axes>"
      ]
     },
     "metadata": {
      "needs_background": "light"
     },
     "output_type": "display_data"
    }
   ],
   "source": [
    "plt.hist(Fecha_2015[\"month\"], facecolor='g', bins = 12)\n",
    "plt.xlabel('Mes')\n",
    "plt.ylabel('Cantitdad de ingresos al mes')\n",
    "plt.title('Histograma Mes en el 2015')"
   ]
  },
  {
   "cell_type": "code",
   "execution_count": 296,
   "metadata": {},
   "outputs": [
    {
     "data": {
      "text/plain": [
       "Text(0.5, 1.0, 'Histograma Mes en el 2016')"
      ]
     },
     "execution_count": 296,
     "metadata": {},
     "output_type": "execute_result"
    },
    {
     "data": {
      "image/png": "[encoded data removed]",
      "text/plain": [
       "<Figure size 432x288 with 1 Axes>"
      ]
     },
     "metadata": {
      "needs_background": "light"
     },
     "output_type": "display_data"
    }
   ],
   "source": [
    "plt.hist(Fecha_2016[\"month\"], facecolor='g', bins = 12)\n",
    "plt.xlabel('Mes')\n",
    "plt.ylabel('Cantitdad de ingresos al mes')\n",
    "plt.title('Histograma Mes en el 2016')"
   ]
  },
  {
   "cell_type": "code",
   "execution_count": 297,
   "metadata": {},
   "outputs": [
    {
     "data": {
      "text/plain": [
       "Text(0.5, 1.0, 'Histograma Mes en el 2017')"
      ]
     },
     "execution_count": 297,
     "metadata": {},
     "output_type": "execute_result"
    },
    {
     "data": {
      "image/png": "[encoded data removed]",
      "text/plain": [
       "<Figure size 432x288 with 1 Axes>"
      ]
     },
     "metadata": {
      "needs_background": "light"
     },
     "output_type": "display_data"
    }
   ],
   "source": [
    "plt.hist(Fecha_2017[\"month\"], facecolor='g', bins = 12)\n",
    "plt.xlabel('Mes')\n",
    "plt.ylabel('Cantitdad de ingresos al mes')\n",
    "plt.title('Histograma Mes en el 2017')"
   ]
  },
  {
   "cell_type": "code",
   "execution_count": 298,
   "metadata": {},
   "outputs": [
    {
     "data": {
      "text/plain": [
       "Text(0.5, 1.0, 'Histograma Mes en el 2018')"
      ]
     },
     "execution_count": 298,
     "metadata": {},
     "output_type": "execute_result"
    },
    {
     "data": {
      "image/png": "[encoded data removed]",
      "text/plain": [
       "<Figure size 432x288 with 1 Axes>"
      ]
     },
     "metadata": {
      "needs_background": "light"
     },
     "output_type": "display_data"
    }
   ],
   "source": [
    "plt.hist(Fecha_2018[\"month\"], facecolor='g', bins = 12)\n",
    "plt.xlabel('Mes')\n",
    "plt.ylabel('Cantitdad de ingresos al mes')\n",
    "plt.title('Histograma Mes en el 2018')"
   ]
  },
  {
   "cell_type": "code",
   "execution_count": 299,
   "metadata": {},
   "outputs": [
    {
     "data": {
      "text/plain": [
       "Text(0.5, 1.0, 'Histograma Mes en el 2019')"
      ]
     },
     "execution_count": 299,
     "metadata": {},
     "output_type": "execute_result"
    },
    {
     "data": {
      "image/png": "[encoded data removed]",
      "text/plain": [
       "<Figure size 432x288 with 1 Axes>"
      ]
     },
     "metadata": {
      "needs_background": "light"
     },
     "output_type": "display_data"
    }
   ],
   "source": [
    "plt.hist(Fecha_2019[\"month\"], facecolor='g', bins = 12)\n",
    "plt.xlabel('Mes')\n",
    "plt.ylabel('Cantitdad de ingresos al mes')\n",
    "plt.title('Histograma Mes en el 2019')"
   ]
  },
  {
   "cell_type": "code",
   "execution_count": 301,
   "metadata": {},
   "outputs": [
    {
     "data": {
      "text/plain": [
       "Text(0.5, 1.0, 'Histograma Mes en el 2020')"
      ]
     },
     "execution_count": 301,
     "metadata": {},
     "output_type": "execute_result"
    },
    {
     "data": {
      "image/png": "[encoded data removed]",
      "text/plain": [
       "<Figure size 432x288 with 1 Axes>"
      ]
     },
     "metadata": {
      "needs_background": "light"
     },
     "output_type": "display_data"
    }
   ],
   "source": [
    "plt.hist(Fecha_2020[\"month\"], facecolor='g', bins = 2)\n",
    "plt.xlabel('Mes')\n",
    "plt.ylabel('Cantitdad de ingresos al mes')\n",
    "plt.title('Histograma Mes en el 2020')"
   ]
  },
  {
   "cell_type": "markdown",
   "metadata": {},
   "source": [
    "# Vuelvo a graficar los datos de los clientes"
   ]
  },
  {
   "cell_type": "code",
   "execution_count": 306,
   "metadata": {},
   "outputs": [
    {
     "data": {
      "text/plain": [
       "Text(0.5, 1.0, 'Histograma por edad')"
      ]
     },
     "execution_count": 306,
     "metadata": {},
     "output_type": "execute_result"
    },
    {
     "data": {
      "image/png": "[encoded data removed]",
      "text/plain": [
       "<Figure size 432x288 with 1 Axes>"
      ]
     },
     "metadata": {
      "needs_background": "light"
     },
     "output_type": "display_data"
    }
   ],
   "source": [
    "plt.hist(df_cliente_fecha[\"Edad\"], facecolor='g', label = 'str', bins = 27)\n",
    "plt.xlabel('Edad')\n",
    "plt.ylabel('Cantidad de ingresos a la Edad')\n",
    "plt.title('Histograma por edad')"
   ]
  },
  {
   "cell_type": "markdown",
   "metadata": {},
   "source": [
    "# Cantidad de ingresos por niño"
   ]
  },
  {
   "cell_type": "code",
   "execution_count": 309,
   "metadata": {},
   "outputs": [
    {
     "data": {
      "text/plain": [
       "count    77033.000000\n",
       "mean         3.066179\n",
       "std          3.522509\n",
       "min          1.000000\n",
       "25%          1.000000\n",
       "50%          2.000000\n",
       "75%          3.000000\n",
       "max         55.000000\n",
       "dtype: float64"
      ]
     },
     "execution_count": 309,
     "metadata": {},
     "output_type": "execute_result"
    }
   ],
   "source": [
    "grouped_nino = df_cliente_fecha.groupby(\"CodNino\")\n",
    "grouped_nino.size()\n",
    "cantidad_ingresos_nino = grouped_nino.size()\n",
    "cantidad_ingresos_nino.describe()"
   ]
  },
  {
   "cell_type": "code",
   "execution_count": 313,
   "metadata": {},
   "outputs": [
    {
     "data": {
      "text/plain": [
       "Text(0.5, 1.0, 'Histograma Cantidad de ingresos x niño')"
      ]
     },
     "execution_count": 313,
     "metadata": {},
     "output_type": "execute_result"
    },
    {
     "data": {
      "image/png": "[encoded data removed]",
      "text/plain": [
       "<Figure size 432x288 with 1 Axes>"
      ]
     },
     "metadata": {
      "needs_background": "light"
     },
     "output_type": "display_data"
    }
   ],
   "source": [
    "plt.hist(cantidad_delitos_nino, facecolor='g', bins = 55)\n",
    "plt.xlabel('Cantidad de ingresos')\n",
    "plt.ylabel('Cantidad de ingresos x niño')\n",
    "plt.title('Histograma Cantidad de ingresos x niño')"
   ]
  },
  {
   "cell_type": "code",
   "execution_count": 319,
   "metadata": {},
   "outputs": [
    {
     "data": {
      "text/plain": [
       "31967    496502\n",
       "31968    496502\n",
       "31969    496502\n",
       "31970    496502\n",
       "31971    496502\n",
       "31972    496502\n",
       "31973    496502\n",
       "31974    496502\n",
       "31975    496502\n",
       "31977    496502\n",
       "31978    496502\n",
       "31980    496502\n",
       "31981    496502\n",
       "31982    496502\n",
       "31983    496502\n",
       "31984    496502\n",
       "31985    496502\n",
       "31986    496502\n",
       "31987    496502\n",
       "31988    496502\n",
       "31989    496502\n",
       "31990    496502\n",
       "31991    496502\n",
       "31992    496502\n",
       "31993    496502\n",
       "31994    496502\n",
       "31995    496502\n",
       "31996    496502\n",
       "31997    496502\n",
       "31998    496502\n",
       "31999    496502\n",
       "32000    496502\n",
       "32001    496502\n",
       "32002    496502\n",
       "32003    496502\n",
       "32004    496502\n",
       "32005    496502\n",
       "32006    496502\n",
       "32007    496502\n",
       "32008    496502\n",
       "32009    496502\n",
       "32010    496502\n",
       "32011    496502\n",
       "32012    496502\n",
       "32013    496502\n",
       "32014    496502\n",
       "32015    496502\n",
       "32016    496502\n",
       "32017    496502\n",
       "32018    496502\n",
       "32019    496502\n",
       "32020    496502\n",
       "32021    496502\n",
       "32022    496502\n",
       "32023    496502\n",
       "Name: CodNino, dtype: int64"
      ]
     },
     "execution_count": 319,
     "metadata": {},
     "output_type": "execute_result"
    }
   ],
   "source": [
    "grouped_nino[\"CodNino\"].filter(lambda x: x.count() == 55)"
   ]
  },
  {
   "cell_type": "code",
   "execution_count": 323,
   "metadata": {},
   "outputs": [
    {
     "data": {
      "text/html": [
       "<div>\n",
       "<style scoped>\n",
       "    .dataframe tbody tr th:only-of-type {\n",
       "        vertical-align: middle;\n",
       "    }\n",
       "\n",
       "    .dataframe tbody tr th {\n",
       "        vertical-align: top;\n",
       "    }\n",
       "\n",
       "    .dataframe thead th {\n",
       "        text-align: right;\n",
       "    }\n",
       "</style>\n",
       "<table border=\"1\" class=\"dataframe\">\n",
       "  <thead>\n",
       "    <tr style=\"text-align: right;\">\n",
       "      <th></th>\n",
       "      <th>CodNino</th>\n",
       "      <th>FechaIngreso</th>\n",
       "      <th>Edad</th>\n",
       "    </tr>\n",
       "  </thead>\n",
       "  <tbody>\n",
       "    <tr>\n",
       "      <th>31967</th>\n",
       "      <td>496502</td>\n",
       "      <td>2013-04-30 00:00:00.000</td>\n",
       "      <td>14</td>\n",
       "    </tr>\n",
       "    <tr>\n",
       "      <th>31968</th>\n",
       "      <td>496502</td>\n",
       "      <td>2013-06-27 00:00:00.000</td>\n",
       "      <td>14</td>\n",
       "    </tr>\n",
       "    <tr>\n",
       "      <th>31969</th>\n",
       "      <td>496502</td>\n",
       "      <td>2013-09-14 00:00:00.000</td>\n",
       "      <td>14</td>\n",
       "    </tr>\n",
       "    <tr>\n",
       "      <th>31970</th>\n",
       "      <td>496502</td>\n",
       "      <td>2013-09-17 00:00:00.000</td>\n",
       "      <td>14</td>\n",
       "    </tr>\n",
       "    <tr>\n",
       "      <th>31971</th>\n",
       "      <td>496502</td>\n",
       "      <td>2013-10-21 00:00:00.000</td>\n",
       "      <td>14</td>\n",
       "    </tr>\n",
       "    <tr>\n",
       "      <th>31972</th>\n",
       "      <td>496502</td>\n",
       "      <td>2014-01-30 00:00:00.000</td>\n",
       "      <td>15</td>\n",
       "    </tr>\n",
       "    <tr>\n",
       "      <th>31973</th>\n",
       "      <td>496502</td>\n",
       "      <td>2014-03-05 00:00:00.000</td>\n",
       "      <td>15</td>\n",
       "    </tr>\n",
       "    <tr>\n",
       "      <th>31974</th>\n",
       "      <td>496502</td>\n",
       "      <td>2014-08-08 00:00:00.000</td>\n",
       "      <td>15</td>\n",
       "    </tr>\n",
       "    <tr>\n",
       "      <th>31975</th>\n",
       "      <td>496502</td>\n",
       "      <td>2014-08-26 00:00:00.000</td>\n",
       "      <td>15</td>\n",
       "    </tr>\n",
       "    <tr>\n",
       "      <th>31977</th>\n",
       "      <td>496502</td>\n",
       "      <td>2014-10-03 00:00:00.000</td>\n",
       "      <td>15</td>\n",
       "    </tr>\n",
       "    <tr>\n",
       "      <th>31978</th>\n",
       "      <td>496502</td>\n",
       "      <td>2014-10-05 00:00:00.000</td>\n",
       "      <td>15</td>\n",
       "    </tr>\n",
       "    <tr>\n",
       "      <th>31980</th>\n",
       "      <td>496502</td>\n",
       "      <td>2014-11-26 00:00:00.000</td>\n",
       "      <td>15</td>\n",
       "    </tr>\n",
       "    <tr>\n",
       "      <th>31981</th>\n",
       "      <td>496502</td>\n",
       "      <td>2014-11-27 00:00:00.000</td>\n",
       "      <td>15</td>\n",
       "    </tr>\n",
       "    <tr>\n",
       "      <th>31982</th>\n",
       "      <td>496502</td>\n",
       "      <td>2014-11-28 00:00:00.000</td>\n",
       "      <td>15</td>\n",
       "    </tr>\n",
       "    <tr>\n",
       "      <th>31983</th>\n",
       "      <td>496502</td>\n",
       "      <td>2014-12-20 00:00:00.000</td>\n",
       "      <td>15</td>\n",
       "    </tr>\n",
       "    <tr>\n",
       "      <th>31984</th>\n",
       "      <td>496502</td>\n",
       "      <td>2014-12-23 00:00:00.000</td>\n",
       "      <td>15</td>\n",
       "    </tr>\n",
       "    <tr>\n",
       "      <th>31985</th>\n",
       "      <td>496502</td>\n",
       "      <td>2015-01-22 00:00:00.000</td>\n",
       "      <td>16</td>\n",
       "    </tr>\n",
       "    <tr>\n",
       "      <th>31986</th>\n",
       "      <td>496502</td>\n",
       "      <td>2015-04-02 00:00:00.000</td>\n",
       "      <td>16</td>\n",
       "    </tr>\n",
       "    <tr>\n",
       "      <th>31987</th>\n",
       "      <td>496502</td>\n",
       "      <td>2015-04-07 00:00:00.000</td>\n",
       "      <td>16</td>\n",
       "    </tr>\n",
       "    <tr>\n",
       "      <th>31988</th>\n",
       "      <td>496502</td>\n",
       "      <td>2015-05-30 00:00:00.000</td>\n",
       "      <td>16</td>\n",
       "    </tr>\n",
       "    <tr>\n",
       "      <th>31989</th>\n",
       "      <td>496502</td>\n",
       "      <td>2015-06-12 00:00:00.000</td>\n",
       "      <td>16</td>\n",
       "    </tr>\n",
       "    <tr>\n",
       "      <th>31990</th>\n",
       "      <td>496502</td>\n",
       "      <td>2015-07-15 00:00:00.000</td>\n",
       "      <td>16</td>\n",
       "    </tr>\n",
       "    <tr>\n",
       "      <th>31991</th>\n",
       "      <td>496502</td>\n",
       "      <td>2015-07-23 00:00:00.000</td>\n",
       "      <td>16</td>\n",
       "    </tr>\n",
       "    <tr>\n",
       "      <th>31992</th>\n",
       "      <td>496502</td>\n",
       "      <td>2015-08-17 00:00:00.000</td>\n",
       "      <td>16</td>\n",
       "    </tr>\n",
       "    <tr>\n",
       "      <th>31993</th>\n",
       "      <td>496502</td>\n",
       "      <td>2015-08-20 00:00:00.000</td>\n",
       "      <td>16</td>\n",
       "    </tr>\n",
       "    <tr>\n",
       "      <th>31994</th>\n",
       "      <td>496502</td>\n",
       "      <td>2015-08-22 00:00:00.000</td>\n",
       "      <td>16</td>\n",
       "    </tr>\n",
       "    <tr>\n",
       "      <th>31995</th>\n",
       "      <td>496502</td>\n",
       "      <td>2015-09-04 00:00:00.000</td>\n",
       "      <td>16</td>\n",
       "    </tr>\n",
       "    <tr>\n",
       "      <th>31996</th>\n",
       "      <td>496502</td>\n",
       "      <td>2015-09-12 00:00:00.000</td>\n",
       "      <td>16</td>\n",
       "    </tr>\n",
       "    <tr>\n",
       "      <th>31997</th>\n",
       "      <td>496502</td>\n",
       "      <td>2015-09-16 00:00:00.000</td>\n",
       "      <td>16</td>\n",
       "    </tr>\n",
       "    <tr>\n",
       "      <th>31998</th>\n",
       "      <td>496502</td>\n",
       "      <td>2015-11-14 00:00:00.000</td>\n",
       "      <td>16</td>\n",
       "    </tr>\n",
       "    <tr>\n",
       "      <th>31999</th>\n",
       "      <td>496502</td>\n",
       "      <td>2015-11-16 00:00:00.000</td>\n",
       "      <td>16</td>\n",
       "    </tr>\n",
       "    <tr>\n",
       "      <th>32000</th>\n",
       "      <td>496502</td>\n",
       "      <td>2015-11-18 00:00:00.000</td>\n",
       "      <td>16</td>\n",
       "    </tr>\n",
       "    <tr>\n",
       "      <th>32001</th>\n",
       "      <td>496502</td>\n",
       "      <td>2016-01-13 00:00:00.000</td>\n",
       "      <td>17</td>\n",
       "    </tr>\n",
       "    <tr>\n",
       "      <th>32002</th>\n",
       "      <td>496502</td>\n",
       "      <td>2016-01-23 00:00:00.000</td>\n",
       "      <td>17</td>\n",
       "    </tr>\n",
       "    <tr>\n",
       "      <th>32003</th>\n",
       "      <td>496502</td>\n",
       "      <td>2016-01-24 00:00:00.000</td>\n",
       "      <td>17</td>\n",
       "    </tr>\n",
       "    <tr>\n",
       "      <th>32004</th>\n",
       "      <td>496502</td>\n",
       "      <td>2016-01-25 00:00:00.000</td>\n",
       "      <td>17</td>\n",
       "    </tr>\n",
       "    <tr>\n",
       "      <th>32005</th>\n",
       "      <td>496502</td>\n",
       "      <td>2016-02-13 00:00:00.000</td>\n",
       "      <td>17</td>\n",
       "    </tr>\n",
       "    <tr>\n",
       "      <th>32006</th>\n",
       "      <td>496502</td>\n",
       "      <td>2016-02-14 00:00:00.000</td>\n",
       "      <td>17</td>\n",
       "    </tr>\n",
       "    <tr>\n",
       "      <th>32007</th>\n",
       "      <td>496502</td>\n",
       "      <td>2016-02-17 00:00:00.000</td>\n",
       "      <td>17</td>\n",
       "    </tr>\n",
       "    <tr>\n",
       "      <th>32008</th>\n",
       "      <td>496502</td>\n",
       "      <td>2016-02-20 00:00:00.000</td>\n",
       "      <td>17</td>\n",
       "    </tr>\n",
       "    <tr>\n",
       "      <th>32009</th>\n",
       "      <td>496502</td>\n",
       "      <td>2016-02-25 00:00:00.000</td>\n",
       "      <td>17</td>\n",
       "    </tr>\n",
       "    <tr>\n",
       "      <th>32010</th>\n",
       "      <td>496502</td>\n",
       "      <td>2016-04-11 00:00:00.000</td>\n",
       "      <td>17</td>\n",
       "    </tr>\n",
       "    <tr>\n",
       "      <th>32011</th>\n",
       "      <td>496502</td>\n",
       "      <td>2016-04-23 00:00:00.000</td>\n",
       "      <td>17</td>\n",
       "    </tr>\n",
       "    <tr>\n",
       "      <th>32012</th>\n",
       "      <td>496502</td>\n",
       "      <td>2016-04-25 00:00:00.000</td>\n",
       "      <td>17</td>\n",
       "    </tr>\n",
       "    <tr>\n",
       "      <th>32013</th>\n",
       "      <td>496502</td>\n",
       "      <td>2016-04-27 00:00:00.000</td>\n",
       "      <td>17</td>\n",
       "    </tr>\n",
       "    <tr>\n",
       "      <th>32014</th>\n",
       "      <td>496502</td>\n",
       "      <td>2016-07-26 00:00:00.000</td>\n",
       "      <td>17</td>\n",
       "    </tr>\n",
       "    <tr>\n",
       "      <th>32015</th>\n",
       "      <td>496502</td>\n",
       "      <td>2016-08-04 00:00:00.000</td>\n",
       "      <td>17</td>\n",
       "    </tr>\n",
       "    <tr>\n",
       "      <th>32016</th>\n",
       "      <td>496502</td>\n",
       "      <td>2016-08-05 00:00:00.000</td>\n",
       "      <td>17</td>\n",
       "    </tr>\n",
       "    <tr>\n",
       "      <th>32017</th>\n",
       "      <td>496502</td>\n",
       "      <td>2016-08-10 00:00:00.000</td>\n",
       "      <td>17</td>\n",
       "    </tr>\n",
       "    <tr>\n",
       "      <th>32018</th>\n",
       "      <td>496502</td>\n",
       "      <td>2017-01-19 00:00:00.000</td>\n",
       "      <td>18</td>\n",
       "    </tr>\n",
       "    <tr>\n",
       "      <th>32019</th>\n",
       "      <td>496502</td>\n",
       "      <td>2017-03-16 00:00:00.000</td>\n",
       "      <td>18</td>\n",
       "    </tr>\n",
       "    <tr>\n",
       "      <th>32020</th>\n",
       "      <td>496502</td>\n",
       "      <td>2017-03-17 00:00:00.000</td>\n",
       "      <td>18</td>\n",
       "    </tr>\n",
       "    <tr>\n",
       "      <th>32021</th>\n",
       "      <td>496502</td>\n",
       "      <td>2017-04-11 00:00:00.000</td>\n",
       "      <td>18</td>\n",
       "    </tr>\n",
       "    <tr>\n",
       "      <th>32022</th>\n",
       "      <td>496502</td>\n",
       "      <td>2017-09-08 00:00:00.000</td>\n",
       "      <td>18</td>\n",
       "    </tr>\n",
       "    <tr>\n",
       "      <th>32023</th>\n",
       "      <td>496502</td>\n",
       "      <td>2019-01-02 00:00:00.000</td>\n",
       "      <td>20</td>\n",
       "    </tr>\n",
       "  </tbody>\n",
       "</table>\n",
       "</div>"
      ],
      "text/plain": [
       "       CodNino             FechaIngreso  Edad\n",
       "31967   496502  2013-04-30 00:00:00.000    14\n",
       "31968   496502  2013-06-27 00:00:00.000    14\n",
       "31969   496502  2013-09-14 00:00:00.000    14\n",
       "31970   496502  2013-09-17 00:00:00.000    14\n",
       "31971   496502  2013-10-21 00:00:00.000    14\n",
       "31972   496502  2014-01-30 00:00:00.000    15\n",
       "31973   496502  2014-03-05 00:00:00.000    15\n",
       "31974   496502  2014-08-08 00:00:00.000    15\n",
       "31975   496502  2014-08-26 00:00:00.000    15\n",
       "31977   496502  2014-10-03 00:00:00.000    15\n",
       "31978   496502  2014-10-05 00:00:00.000    15\n",
       "31980   496502  2014-11-26 00:00:00.000    15\n",
       "31981   496502  2014-11-27 00:00:00.000    15\n",
       "31982   496502  2014-11-28 00:00:00.000    15\n",
       "31983   496502  2014-12-20 00:00:00.000    15\n",
       "31984   496502  2014-12-23 00:00:00.000    15\n",
       "31985   496502  2015-01-22 00:00:00.000    16\n",
       "31986   496502  2015-04-02 00:00:00.000    16\n",
       "31987   496502  2015-04-07 00:00:00.000    16\n",
       "31988   496502  2015-05-30 00:00:00.000    16\n",
       "31989   496502  2015-06-12 00:00:00.000    16\n",
       "31990   496502  2015-07-15 00:00:00.000    16\n",
       "31991   496502  2015-07-23 00:00:00.000    16\n",
       "31992   496502  2015-08-17 00:00:00.000    16\n",
       "31993   496502  2015-08-20 00:00:00.000    16\n",
       "31994   496502  2015-08-22 00:00:00.000    16\n",
       "31995   496502  2015-09-04 00:00:00.000    16\n",
       "31996   496502  2015-09-12 00:00:00.000    16\n",
       "31997   496502  2015-09-16 00:00:00.000    16\n",
       "31998   496502  2015-11-14 00:00:00.000    16\n",
       "31999   496502  2015-11-16 00:00:00.000    16\n",
       "32000   496502  2015-11-18 00:00:00.000    16\n",
       "32001   496502  2016-01-13 00:00:00.000    17\n",
       "32002   496502  2016-01-23 00:00:00.000    17\n",
       "32003   496502  2016-01-24 00:00:00.000    17\n",
       "32004   496502  2016-01-25 00:00:00.000    17\n",
       "32005   496502  2016-02-13 00:00:00.000    17\n",
       "32006   496502  2016-02-14 00:00:00.000    17\n",
       "32007   496502  2016-02-17 00:00:00.000    17\n",
       "32008   496502  2016-02-20 00:00:00.000    17\n",
       "32009   496502  2016-02-25 00:00:00.000    17\n",
       "32010   496502  2016-04-11 00:00:00.000    17\n",
       "32011   496502  2016-04-23 00:00:00.000    17\n",
       "32012   496502  2016-04-25 00:00:00.000    17\n",
       "32013   496502  2016-04-27 00:00:00.000    17\n",
       "32014   496502  2016-07-26 00:00:00.000    17\n",
       "32015   496502  2016-08-04 00:00:00.000    17\n",
       "32016   496502  2016-08-05 00:00:00.000    17\n",
       "32017   496502  2016-08-10 00:00:00.000    17\n",
       "32018   496502  2017-01-19 00:00:00.000    18\n",
       "32019   496502  2017-03-16 00:00:00.000    18\n",
       "32020   496502  2017-03-17 00:00:00.000    18\n",
       "32021   496502  2017-04-11 00:00:00.000    18\n",
       "32022   496502  2017-09-08 00:00:00.000    18\n",
       "32023   496502  2019-01-02 00:00:00.000    20"
      ]
     },
     "execution_count": 323,
     "metadata": {},
     "output_type": "execute_result"
    }
   ],
   "source": [
    "df_cliente_fecha[(df_cliente_fecha[\"CodNino\"]==496502)]"
   ]
  },
  {
   "cell_type": "code",
   "execution_count": null,
   "metadata": {},
   "outputs": [],
   "source": []
  }
 ],
 "metadata": {
  "kernelspec": {
   "display_name": "Python 3",
   "language": "python",
   "name": "python3"
  },
  "language_info": {
   "codemirror_mode": {
    "name": "ipython",
    "version": 3
   },
   "file_extension": ".py",
   "mimetype": "text/x-python",
   "name": "python",
   "nbconvert_exporter": "python",
   "pygments_lexer": "ipython3",
   "version": "3.7.3"
  }
 },
 "nbformat": 4,
 "nbformat_minor": 2
}
