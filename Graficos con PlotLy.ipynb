{
 "cells": [
  {
   "cell_type": "markdown",
   "metadata": {},
   "source": [
    "## Graficos con PlotLy"
   ]
  },
  {
   "cell_type": "code",
   "execution_count": 11,
   "metadata": {},
   "outputs": [],
   "source": [
    "import chart_studio.plotly as py\n",
    "import chart_studio\n",
    "import plotly.graph_objs as go\n",
    "import plotly.tools as tls\n",
    "import numpy as np\n",
    "\n",
    "\n",
    "chart_studio.tools.set_credentials_file(username='ljorge08', api_key ='fD5cWVl2fUtU3m50DPoY')"
   ]
  },
  {
   "cell_type": "code",
   "execution_count": 4,
   "metadata": {},
   "outputs": [
    {
     "data": {
      "text/plain": [
       "'4.8.1'"
      ]
     },
     "execution_count": 4,
     "metadata": {},
     "output_type": "execute_result"
    }
   ],
   "source": [
    "import plotly\n",
    "plotly.__version__"
   ]
  },
  {
   "cell_type": "code",
   "execution_count": 7,
   "metadata": {},
   "outputs": [
    {
     "name": "stdout",
     "output_type": "stream",
     "text": [
      "Help on package plotly:\n",
      "\n",
      "NAME\n",
      "    plotly - https://plot.ly/python/\n",
      "\n",
      "DESCRIPTION\n",
      "    Plotly's Python API allows users to programmatically access Plotly's\n",
      "    server resources.\n",
      "    \n",
      "    This package is organized as follows:\n",
      "    \n",
      "    Subpackages:\n",
      "    \n",
      "    - plotly: all functionality that requires access to Plotly's servers\n",
      "    \n",
      "    - graph_objs: objects for designing figures and visualizing data\n",
      "    \n",
      "    - matplotlylib: tools to convert matplotlib figures\n",
      "    \n",
      "    Modules:\n",
      "    \n",
      "    - tools: some helpful tools that do not require access to Plotly's servers\n",
      "    \n",
      "    - utils: functions that you probably won't need, but that subpackages use\n",
      "    \n",
      "    - version: holds the current API version\n",
      "    \n",
      "    - exceptions: defines our custom exception classes\n",
      "\n",
      "PACKAGE CONTENTS\n",
      "    _docstring_gen\n",
      "    _version\n",
      "    _widget_version\n",
      "    animation\n",
      "    basedatatypes\n",
      "    basewidget\n",
      "    callbacks\n",
      "    colors (package)\n",
      "    config\n",
      "    conftest\n",
      "    dashboard_objs\n",
      "    data (package)\n",
      "    exceptions\n",
      "    express (package)\n",
      "    figure_factory (package)\n",
      "    files\n",
      "    graph_objects (package)\n",
      "    graph_objs (package)\n",
      "    grid_objs\n",
      "    io (package)\n",
      "    matplotlylib (package)\n",
      "    missing_ipywidgets\n",
      "    offline (package)\n",
      "    optional_imports\n",
      "    plotly (package)\n",
      "    presentation_objs\n",
      "    serializers\n",
      "    session\n",
      "    subplots\n",
      "    tools\n",
      "    utils\n",
      "    validator_cache\n",
      "    validators (package)\n",
      "    version\n",
      "    widgets\n",
      "\n",
      "VERSION\n",
      "    4.8.1\n",
      "\n",
      "FILE\n",
      "    c:\\users\\l_jor\\anaconda3\\lib\\site-packages\\plotly\\__init__.py\n",
      "\n",
      "\n"
     ]
    }
   ],
   "source": [
    "help(plotly)"
   ]
  },
  {
   "cell_type": "markdown",
   "metadata": {},
   "source": [
    "## Scatter plot sencillos"
   ]
  },
  {
   "cell_type": "code",
   "execution_count": 21,
   "metadata": {},
   "outputs": [],
   "source": [
    "N = 2000\n",
    "random_x = np.random.randn(N)\n",
    "random_y = np.random.randn(N)"
   ]
  },
  {
   "cell_type": "code",
   "execution_count": 22,
   "metadata": {},
   "outputs": [],
   "source": [
    "trace = go.Scatter(x = random_x, y = random_y, mode = \"markers\")"
   ]
  },
  {
   "cell_type": "code",
   "execution_count": 23,
   "metadata": {},
   "outputs": [
    {
     "data": {
      "text/html": [
       "\n",
       "        <iframe\n",
       "            width=\"100%\"\n",
       "            height=\"525px\"\n",
       "            src=\"https://plotly.com/~ljorge08/59.embed\"\n",
       "            frameborder=\"0\"\n",
       "            allowfullscreen\n",
       "        ></iframe>\n",
       "        "
      ],
      "text/plain": [
       "<IPython.lib.display.IFrame at 0x1d273ca2d30>"
      ]
     },
     "execution_count": 23,
     "metadata": {},
     "output_type": "execute_result"
    }
   ],
   "source": [
    "py.iplot([trace], filename = \"Basic-scatter\")"
   ]
  },
  {
   "cell_type": "code",
   "execution_count": 25,
   "metadata": {},
   "outputs": [
    {
     "data": {
      "text/plain": [
       "'https://plotly.com/~ljorge08/59/'"
      ]
     },
     "execution_count": 25,
     "metadata": {},
     "output_type": "execute_result"
    }
   ],
   "source": [
    "plot_url = py.plot([trace], filename = \"Basic-scatter\")\n",
    "plot_url"
   ]
  },
  {
   "cell_type": "markdown",
   "metadata": {},
   "source": [
    "## Graficos combinados"
   ]
  },
  {
   "cell_type": "code",
   "execution_count": 26,
   "metadata": {},
   "outputs": [],
   "source": [
    "N=200\n",
    "rand_x = np.linspace(0,1,N)\n",
    "rand_y0 = np.random.randn(N) + 3\n",
    "rand_y1 = np.random.randn(N) \n",
    "rand_y2 = np.random.randn(N) - 3"
   ]
  },
  {
   "cell_type": "code",
   "execution_count": 28,
   "metadata": {},
   "outputs": [],
   "source": [
    "trace0 = go.Scatter(x=rand_x, y = rand_y0, mode = \"markers\", name = \"Puntos\")\n",
    "trace1 = go.Scatter(x=rand_x, y = rand_y1, mode = \"lines\", name = \"Líneas\")\n",
    "trace2 = go.Scatter(x=rand_x, y = rand_y2, mode = \"lines+markers\", name = \"Puntos y Lineas\")\n",
    "data = [trace0, trace1, trace2]"
   ]
  },
  {
   "cell_type": "code",
   "execution_count": 29,
   "metadata": {},
   "outputs": [
    {
     "data": {
      "text/html": [
       "\n",
       "        <iframe\n",
       "            width=\"100%\"\n",
       "            height=\"525px\"\n",
       "            src=\"https://plotly.com/~ljorge08/64.embed\"\n",
       "            frameborder=\"0\"\n",
       "            allowfullscreen\n",
       "        ></iframe>\n",
       "        "
      ],
      "text/plain": [
       "<IPython.lib.display.IFrame at 0x1d2740091d0>"
      ]
     },
     "execution_count": 29,
     "metadata": {},
     "output_type": "execute_result"
    }
   ],
   "source": [
    "py.iplot(data, filename = \"Scatter, line, plot\")"
   ]
  },
  {
   "cell_type": "markdown",
   "metadata": {},
   "source": [
    "# Estilizado de gráficos"
   ]
  },
  {
   "cell_type": "code",
   "execution_count": 30,
   "metadata": {},
   "outputs": [],
   "source": [
    "trace = go.Scatter(x = random_x, y = random_y, name = \"Puntos estilizados\", mode = \"markers\", \n",
    "                  marker = dict(size = 12, color = \"rgba(140, 20, 20, 0.8)\", line = dict(width=2, color =\"rgb(10, 10, 10)\")))"
   ]
  },
  {
   "cell_type": "code",
   "execution_count": 36,
   "metadata": {},
   "outputs": [],
   "source": [
    "layout = dict(title = \"Scatter Plot Estilizado\", xaxis = dict(zeroline = False), yaxis = dict(zeroline=False))"
   ]
  },
  {
   "cell_type": "code",
   "execution_count": 37,
   "metadata": {},
   "outputs": [
    {
     "data": {
      "text/html": [
       "\n",
       "        <iframe\n",
       "            width=\"100%\"\n",
       "            height=\"525px\"\n",
       "            src=\"https://plotly.com/~ljorge08/68.embed\"\n",
       "            frameborder=\"0\"\n",
       "            allowfullscreen\n",
       "        ></iframe>\n",
       "        "
      ],
      "text/plain": [
       "<IPython.lib.display.IFrame at 0x1d2747329b0>"
      ]
     },
     "execution_count": 37,
     "metadata": {},
     "output_type": "execute_result"
    }
   ],
   "source": [
    "fig = dict(data = [trace], layout = layout)\n",
    "py.iplot(fig)"
   ]
  },
  {
   "cell_type": "code",
   "execution_count": 38,
   "metadata": {},
   "outputs": [
    {
     "data": {
      "text/html": [
       "\n",
       "        <iframe\n",
       "            width=\"100%\"\n",
       "            height=\"525px\"\n",
       "            src=\"https://plotly.com/~ljorge08/70.embed\"\n",
       "            frameborder=\"0\"\n",
       "            allowfullscreen\n",
       "        ></iframe>\n",
       "        "
      ],
      "text/plain": [
       "<IPython.lib.display.IFrame at 0x1d274376358>"
      ]
     },
     "execution_count": 38,
     "metadata": {},
     "output_type": "execute_result"
    }
   ],
   "source": [
    "trace = go.Scatter(x = random_x, y = random_y, name = \"Puntos estilizados\", mode = \"markers\", \n",
    "                  marker = dict(size = 8, color = \"rgba(10, 80, 220, 0.25)\", line = dict(width=2, color =\"rgb(10, 10, 80)\")))\n",
    "layout = dict(title = \"Scatter Plot Estilizado\", xaxis = dict(zeroline = False), yaxis = dict(zeroline=False))\n",
    "fig = dict(data = [trace], layout = layout)\n",
    "py.iplot(fig)"
   ]
  },
  {
   "cell_type": "code",
   "execution_count": 40,
   "metadata": {},
   "outputs": [
    {
     "data": {
      "text/html": [
       "\n",
       "        <iframe\n",
       "            width=\"100%\"\n",
       "            height=\"525px\"\n",
       "            src=\"https://plotly.com/~ljorge08/74.embed\"\n",
       "            frameborder=\"0\"\n",
       "            allowfullscreen\n",
       "        ></iframe>\n",
       "        "
      ],
      "text/plain": [
       "<IPython.lib.display.IFrame at 0x1d274734198>"
      ]
     },
     "execution_count": 40,
     "metadata": {},
     "output_type": "execute_result"
    }
   ],
   "source": [
    "trace = go.Histogram(x = random_x, name = \"Histograma\" )\n",
    "layout = dict(title = \"Histograma\", xaxis = dict(zeroline = False), yaxis = dict(zeroline=False))\n",
    "fig = dict(data = [trace], layout = layout)\n",
    "py.iplot(fig)"
   ]
  },
  {
   "cell_type": "code",
   "execution_count": 44,
   "metadata": {},
   "outputs": [
    {
     "data": {
      "text/html": [
       "\n",
       "        <iframe\n",
       "            width=\"100%\"\n",
       "            height=\"525px\"\n",
       "            src=\"https://plotly.com/~ljorge08/82.embed\"\n",
       "            frameborder=\"0\"\n",
       "            allowfullscreen\n",
       "        ></iframe>\n",
       "        "
      ],
      "text/plain": [
       "<IPython.lib.display.IFrame at 0x1d27493e8d0>"
      ]
     },
     "execution_count": 44,
     "metadata": {},
     "output_type": "execute_result"
    }
   ],
   "source": [
    "trace = go.Box(x = random_x, name = \"Box\", fillcolor = \"rgba(180, 25, 95, 0.6)\" )\n",
    "layout = dict(title = \"Box\", xaxis = dict(zeroline = False), yaxis = dict(zeroline=False))\n",
    "fig = dict(data = [trace], layout = layout)\n",
    "py.iplot(fig, filename = \"Basic\")"
   ]
  },
  {
   "cell_type": "markdown",
   "metadata": {},
   "source": [
    "### Información al hacer Hover"
   ]
  },
  {
   "cell_type": "code",
   "execution_count": 45,
   "metadata": {},
   "outputs": [],
   "source": [
    "import pandas as pd"
   ]
  },
  {
   "cell_type": "code",
   "execution_count": 46,
   "metadata": {},
   "outputs": [
    {
     "data": {
      "text/html": [
       "<div>\n",
       "<style scoped>\n",
       "    .dataframe tbody tr th:only-of-type {\n",
       "        vertical-align: middle;\n",
       "    }\n",
       "\n",
       "    .dataframe tbody tr th {\n",
       "        vertical-align: top;\n",
       "    }\n",
       "\n",
       "    .dataframe thead th {\n",
       "        text-align: right;\n",
       "    }\n",
       "</style>\n",
       "<table border=\"1\" class=\"dataframe\">\n",
       "  <thead>\n",
       "    <tr style=\"text-align: right;\">\n",
       "      <th></th>\n",
       "      <th>Rank</th>\n",
       "      <th>State</th>\n",
       "      <th>Postal</th>\n",
       "      <th>Population</th>\n",
       "    </tr>\n",
       "  </thead>\n",
       "  <tbody>\n",
       "    <tr>\n",
       "      <th>0</th>\n",
       "      <td>1</td>\n",
       "      <td>Alabama</td>\n",
       "      <td>AL</td>\n",
       "      <td>4849377.0</td>\n",
       "    </tr>\n",
       "    <tr>\n",
       "      <th>1</th>\n",
       "      <td>2</td>\n",
       "      <td>Alaska</td>\n",
       "      <td>AK</td>\n",
       "      <td>736732.0</td>\n",
       "    </tr>\n",
       "    <tr>\n",
       "      <th>2</th>\n",
       "      <td>3</td>\n",
       "      <td>Arizona</td>\n",
       "      <td>AZ</td>\n",
       "      <td>6731484.0</td>\n",
       "    </tr>\n",
       "    <tr>\n",
       "      <th>3</th>\n",
       "      <td>4</td>\n",
       "      <td>Arkansas</td>\n",
       "      <td>AR</td>\n",
       "      <td>2966369.0</td>\n",
       "    </tr>\n",
       "    <tr>\n",
       "      <th>4</th>\n",
       "      <td>5</td>\n",
       "      <td>California</td>\n",
       "      <td>CA</td>\n",
       "      <td>38802500.0</td>\n",
       "    </tr>\n",
       "  </tbody>\n",
       "</table>\n",
       "</div>"
      ],
      "text/plain": [
       "   Rank       State Postal  Population\n",
       "0     1     Alabama     AL   4849377.0\n",
       "1     2      Alaska     AK    736732.0\n",
       "2     3     Arizona     AZ   6731484.0\n",
       "3     4    Arkansas     AR   2966369.0\n",
       "4     5  California     CA  38802500.0"
      ]
     },
     "execution_count": 46,
     "metadata": {},
     "output_type": "execute_result"
    }
   ],
   "source": [
    "data = pd.read_csv(\"C:/Users/l_jor/OneDrive/Documents/GitHub/python-ml-course/datasets/usa-population/usa_states_population.csv\")\n",
    "data.head()"
   ]
  },
  {
   "cell_type": "code",
   "execution_count": 47,
   "metadata": {},
   "outputs": [],
   "source": [
    "N = 53\n",
    "c = ['hsl('+str(h)+', 50%, 50%)' for h in np.linspace(0, 360, N)]"
   ]
  },
  {
   "cell_type": "code",
   "execution_count": 61,
   "metadata": {},
   "outputs": [],
   "source": [
    "l = []\n",
    "y = []\n",
    "for i in range(int(N)):\n",
    "    y.append((2000+i))\n",
    "    trace0 = go.Scatter(\n",
    "        x = data[\"State\"],\n",
    "        y = data[\"Population\"]+i*1000000,\n",
    "        mode = \"markers\",\n",
    "        marker = dict(size = 14, line = dict(width=1), color = c[i], opacity = 0.3)\n",
    "        #name = data[\"State\"]\n",
    "    )\n",
    "    l.append(trace0)"
   ]
  },
  {
   "cell_type": "code",
   "execution_count": 60,
   "metadata": {},
   "outputs": [],
   "source": [
    "layout = go.Layout(title = \"Población de los estados de USA\",\n",
    "                 hovermode = \"closest\", \n",
    "                 xaxis = dict(title =\"ID\", ticklen = 5, zeroline = False, gridwidth =2),\n",
    "                 yaxis = dict(title=\"Poblacion\", ticklen = 5, gridwidth = 2), \n",
    "                 showlegend = False)"
   ]
  },
  {
   "cell_type": "code",
   "execution_count": 62,
   "metadata": {},
   "outputs": [
    {
     "data": {
      "text/html": [
       "\n",
       "        <iframe\n",
       "            width=\"100%\"\n",
       "            height=\"525px\"\n",
       "            src=\"https://plotly.com/~ljorge08/82.embed\"\n",
       "            frameborder=\"0\"\n",
       "            allowfullscreen\n",
       "        ></iframe>\n",
       "        "
      ],
      "text/plain": [
       "<IPython.lib.display.IFrame at 0x1d27675cf98>"
      ]
     },
     "execution_count": 62,
     "metadata": {},
     "output_type": "execute_result"
    }
   ],
   "source": [
    "fig = go.Figure(data = l, layout= layout)\n",
    "py.iplot(fig, filename = \"Basic\")"
   ]
  },
  {
   "cell_type": "code",
   "execution_count": 66,
   "metadata": {},
   "outputs": [],
   "source": [
    "trace = go.Scatter(y = np.random.rand(1000),\n",
    "        mode = \"markers\",\n",
    "        marker = dict(size = 14, line = dict(width=1), color = np.random.randn(1000), colorscale =\"Viridis\", showscale =True))   "
   ]
  },
  {
   "cell_type": "code",
   "execution_count": 67,
   "metadata": {},
   "outputs": [
    {
     "data": {
      "text/html": [
       "\n",
       "        <iframe\n",
       "            width=\"100%\"\n",
       "            height=\"525px\"\n",
       "            src=\"https://plotly.com/~ljorge08/82.embed\"\n",
       "            frameborder=\"0\"\n",
       "            allowfullscreen\n",
       "        ></iframe>\n",
       "        "
      ],
      "text/plain": [
       "<IPython.lib.display.IFrame at 0x1d2761082b0>"
      ]
     },
     "execution_count": 67,
     "metadata": {},
     "output_type": "execute_result"
    }
   ],
   "source": [
    "py.iplot([trace], filename = \"Basic\")"
   ]
  },
  {
   "cell_type": "markdown",
   "metadata": {},
   "source": [
    "## Dataset muy grandes"
   ]
  },
  {
   "cell_type": "code",
   "execution_count": 70,
   "metadata": {},
   "outputs": [],
   "source": [
    "N = 10000\n",
    "trace = go.Scattergl(x = np.random.rand(N), y = np.random.rand(N), mode = \"markers\", \n",
    "                    marker = dict(color = \"#BAD5FF\", line =dict(width=1)))"
   ]
  },
  {
   "cell_type": "code",
   "execution_count": 71,
   "metadata": {},
   "outputs": [
    {
     "data": {
      "text/html": [
       "\n",
       "        <iframe\n",
       "            width=\"100%\"\n",
       "            height=\"525px\"\n",
       "            src=\"https://plotly.com/~ljorge08/82.embed\"\n",
       "            frameborder=\"0\"\n",
       "            allowfullscreen\n",
       "        ></iframe>\n",
       "        "
      ],
      "text/plain": [
       "<IPython.lib.display.IFrame at 0x1d276703668>"
      ]
     },
     "execution_count": 71,
     "metadata": {},
     "output_type": "execute_result"
    }
   ],
   "source": [
    "py.iplot([trace], filename = \"Basic\")"
   ]
  },
  {
   "cell_type": "code",
   "execution_count": null,
   "metadata": {},
   "outputs": [],
   "source": []
  }
 ],
 "metadata": {
  "kernelspec": {
   "display_name": "Python 3",
   "language": "python",
   "name": "python3"
  },
  "language_info": {
   "codemirror_mode": {
    "name": "ipython",
    "version": 3
   },
   "file_extension": ".py",
   "mimetype": "text/x-python",
   "name": "python",
   "nbconvert_exporter": "python",
   "pygments_lexer": "ipython3",
   "version": "3.7.3"
  }
 },
 "nbformat": 4,
 "nbformat_minor": 2
}
