{
 "cells": [
  {
   "cell_type": "markdown",
   "metadata": {},
   "source": [
    "# Modelos de regresión lineal"
   ]
  },
  {
   "cell_type": "markdown",
   "metadata": {},
   "source": [
    "## Modelo con datos simulados\n",
    "y = a +b*x\n",
    "x = 100 valores distribuidos según una b(1.5, 2.5)\n",
    "Ye = 4 + 2.7* x + e\n",
    "e será una distribución normal n(0, 0,8)"
   ]
  },
  {
   "cell_type": "code",
   "execution_count": 1,
   "metadata": {},
   "outputs": [],
   "source": [
    "import pandas as pd\n",
    "import numpy as np"
   ]
  },
  {
   "cell_type": "code",
   "execution_count": 2,
   "metadata": {},
   "outputs": [],
   "source": [
    "x = 1.26 + 2.5 * np.random.randn(100)"
   ]
  },
  {
   "cell_type": "code",
   "execution_count": 3,
   "metadata": {},
   "outputs": [],
   "source": [
    "res = 0 + 0.8 * np.random.randn(100)"
   ]
  },
  {
   "cell_type": "code",
   "execution_count": 4,
   "metadata": {},
   "outputs": [],
   "source": [
    "y_pred = 4 + 2.7 * x"
   ]
  },
  {
   "cell_type": "code",
   "execution_count": 5,
   "metadata": {},
   "outputs": [],
   "source": [
    "y_act =  4 + 2.7 * x + res"
   ]
  },
  {
   "cell_type": "code",
   "execution_count": 6,
   "metadata": {},
   "outputs": [],
   "source": [
    "x_list = x.tolist()\n",
    "y_pred_list = y_pred.tolist()\n",
    "y_act_list = y_act.tolist()"
   ]
  },
  {
   "cell_type": "code",
   "execution_count": 7,
   "metadata": {},
   "outputs": [],
   "source": [
    "data = pd.DataFrame(\n",
    "    {\n",
    "        \"x\":x_list,\n",
    "        \"y\":y_act_list,\n",
    "        \"y_prediccion\":y_pred_list\n",
    "    }\n",
    "\n",
    ")"
   ]
  },
  {
   "cell_type": "code",
   "execution_count": 8,
   "metadata": {},
   "outputs": [
    {
     "data": {
      "text/html": [
       "<div>\n",
       "<style scoped>\n",
       "    .dataframe tbody tr th:only-of-type {\n",
       "        vertical-align: middle;\n",
       "    }\n",
       "\n",
       "    .dataframe tbody tr th {\n",
       "        vertical-align: top;\n",
       "    }\n",
       "\n",
       "    .dataframe thead th {\n",
       "        text-align: right;\n",
       "    }\n",
       "</style>\n",
       "<table border=\"1\" class=\"dataframe\">\n",
       "  <thead>\n",
       "    <tr style=\"text-align: right;\">\n",
       "      <th></th>\n",
       "      <th>x</th>\n",
       "      <th>y</th>\n",
       "      <th>y_prediccion</th>\n",
       "    </tr>\n",
       "  </thead>\n",
       "  <tbody>\n",
       "    <tr>\n",
       "      <th>0</th>\n",
       "      <td>3.001514</td>\n",
       "      <td>11.359032</td>\n",
       "      <td>12.104087</td>\n",
       "    </tr>\n",
       "    <tr>\n",
       "      <th>1</th>\n",
       "      <td>1.925075</td>\n",
       "      <td>10.014894</td>\n",
       "      <td>9.197702</td>\n",
       "    </tr>\n",
       "    <tr>\n",
       "      <th>2</th>\n",
       "      <td>2.411327</td>\n",
       "      <td>10.983174</td>\n",
       "      <td>10.510582</td>\n",
       "    </tr>\n",
       "    <tr>\n",
       "      <th>3</th>\n",
       "      <td>1.666408</td>\n",
       "      <td>8.543446</td>\n",
       "      <td>8.499301</td>\n",
       "    </tr>\n",
       "    <tr>\n",
       "      <th>4</th>\n",
       "      <td>4.245615</td>\n",
       "      <td>16.944081</td>\n",
       "      <td>15.463160</td>\n",
       "    </tr>\n",
       "  </tbody>\n",
       "</table>\n",
       "</div>"
      ],
      "text/plain": [
       "          x          y  y_prediccion\n",
       "0  3.001514  11.359032     12.104087\n",
       "1  1.925075  10.014894      9.197702\n",
       "2  2.411327  10.983174     10.510582\n",
       "3  1.666408   8.543446      8.499301\n",
       "4  4.245615  16.944081     15.463160"
      ]
     },
     "execution_count": 8,
     "metadata": {},
     "output_type": "execute_result"
    }
   ],
   "source": [
    "data.head()"
   ]
  },
  {
   "cell_type": "code",
   "execution_count": 9,
   "metadata": {},
   "outputs": [],
   "source": [
    "import matplotlib.pyplot as plt\n"
   ]
  },
  {
   "cell_type": "code",
   "execution_count": 10,
   "metadata": {},
   "outputs": [],
   "source": [
    "y_mean = [np.mean(y_act) for i in range(1, len(x_list) +  1)]"
   ]
  },
  {
   "cell_type": "code",
   "execution_count": 11,
   "metadata": {},
   "outputs": [
    {
     "data": {
      "text/plain": [
       "Text(0.5, 1.0, 'Valor actual vs predicción')"
      ]
     },
     "execution_count": 11,
     "metadata": {},
     "output_type": "execute_result"
    },
    {
     "data": {
      "image/png": "[encoded data removed]",
      "text/plain": [
       "<Figure size 432x288 with 1 Axes>"
      ]
     },
     "metadata": {
      "needs_background": "light"
     },
     "output_type": "display_data"
    }
   ],
   "source": [
    "%matplotlib inline\n",
    "plt.plot(x,y_pred)\n",
    "plt.plot(x,y_act, \"ro\")\n",
    "plt.plot(x,y_mean)\n",
    "plt.title(\"Valor actual vs predicción\")"
   ]
  },
  {
   "cell_type": "code",
   "execution_count": 12,
   "metadata": {},
   "outputs": [],
   "source": [
    "data[\"SSR\"] = (data[\"y_prediccion\"]-np.mean(y_act))**2\n",
    "data[\"SSD\"] = (data[\"y_prediccion\"]-data[\"y\"])**2\n",
    "data[\"SST\"] = (data[\"y\"]-np.mean(y_act))**2\n"
   ]
  },
  {
   "cell_type": "code",
   "execution_count": 13,
   "metadata": {},
   "outputs": [
    {
     "data": {
      "text/html": [
       "<div>\n",
       "<style scoped>\n",
       "    .dataframe tbody tr th:only-of-type {\n",
       "        vertical-align: middle;\n",
       "    }\n",
       "\n",
       "    .dataframe tbody tr th {\n",
       "        vertical-align: top;\n",
       "    }\n",
       "\n",
       "    .dataframe thead th {\n",
       "        text-align: right;\n",
       "    }\n",
       "</style>\n",
       "<table border=\"1\" class=\"dataframe\">\n",
       "  <thead>\n",
       "    <tr style=\"text-align: right;\">\n",
       "      <th></th>\n",
       "      <th>x</th>\n",
       "      <th>y</th>\n",
       "      <th>y_prediccion</th>\n",
       "      <th>SSR</th>\n",
       "      <th>SSD</th>\n",
       "      <th>SST</th>\n",
       "    </tr>\n",
       "  </thead>\n",
       "  <tbody>\n",
       "    <tr>\n",
       "      <th>0</th>\n",
       "      <td>3.001514</td>\n",
       "      <td>11.359032</td>\n",
       "      <td>12.104087</td>\n",
       "      <td>27.209630</td>\n",
       "      <td>0.555107</td>\n",
       "      <td>19.991899</td>\n",
       "    </tr>\n",
       "    <tr>\n",
       "      <th>1</th>\n",
       "      <td>1.925075</td>\n",
       "      <td>10.014894</td>\n",
       "      <td>9.197702</td>\n",
       "      <td>5.335639</td>\n",
       "      <td>0.667802</td>\n",
       "      <td>9.778703</td>\n",
       "    </tr>\n",
       "    <tr>\n",
       "      <th>2</th>\n",
       "      <td>2.411327</td>\n",
       "      <td>10.983174</td>\n",
       "      <td>10.510582</td>\n",
       "      <td>13.124537</td>\n",
       "      <td>0.223343</td>\n",
       "      <td>16.772072</td>\n",
       "    </tr>\n",
       "    <tr>\n",
       "      <th>3</th>\n",
       "      <td>1.666408</td>\n",
       "      <td>8.543446</td>\n",
       "      <td>8.499301</td>\n",
       "      <td>2.596929</td>\n",
       "      <td>0.001949</td>\n",
       "      <td>2.741159</td>\n",
       "    </tr>\n",
       "    <tr>\n",
       "      <th>4</th>\n",
       "      <td>4.245615</td>\n",
       "      <td>16.944081</td>\n",
       "      <td>15.463160</td>\n",
       "      <td>73.536773</td>\n",
       "      <td>2.193126</td>\n",
       "      <td>101.128746</td>\n",
       "    </tr>\n",
       "  </tbody>\n",
       "</table>\n",
       "</div>"
      ],
      "text/plain": [
       "          x          y  y_prediccion        SSR       SSD         SST\n",
       "0  3.001514  11.359032     12.104087  27.209630  0.555107   19.991899\n",
       "1  1.925075  10.014894      9.197702   5.335639  0.667802    9.778703\n",
       "2  2.411327  10.983174     10.510582  13.124537  0.223343   16.772072\n",
       "3  1.666408   8.543446      8.499301   2.596929  0.001949    2.741159\n",
       "4  4.245615  16.944081     15.463160  73.536773  2.193126  101.128746"
      ]
     },
     "execution_count": 13,
     "metadata": {},
     "output_type": "execute_result"
    }
   ],
   "source": [
    "data.head()"
   ]
  },
  {
   "cell_type": "code",
   "execution_count": 14,
   "metadata": {},
   "outputs": [],
   "source": [
    "SSR = sum(data[\"SSR\"]) \n",
    "SSD = sum(data[\"SSD\"])\n",
    "SST = sum(data[\"SST\"])\n",
    "R2= SSR / SST"
   ]
  },
  {
   "cell_type": "code",
   "execution_count": 15,
   "metadata": {},
   "outputs": [
    {
     "data": {
      "text/plain": [
       "1.0083892446476046"
      ]
     },
     "execution_count": 15,
     "metadata": {},
     "output_type": "execute_result"
    }
   ],
   "source": [
    "R2"
   ]
  },
  {
   "cell_type": "code",
   "execution_count": 16,
   "metadata": {},
   "outputs": [
    {
     "data": {
      "text/plain": [
       "(array([ 2.,  5.,  9., 14., 15., 21., 19.,  9.,  3.,  3.]),\n",
       " array([-2.03822799, -1.6558934 , -1.27355882, -0.89122423, -0.50888964,\n",
       "        -0.12655506,  0.25577953,  0.63811412,  1.0204487 ,  1.40278329,\n",
       "         1.78511788]),\n",
       " <a list of 10 Patch objects>)"
      ]
     },
     "execution_count": 16,
     "metadata": {},
     "output_type": "execute_result"
    },
    {
     "data": {
      "image/png": "[encoded data removed]",
      "text/plain": [
       "<Figure size 432x288 with 1 Axes>"
      ]
     },
     "metadata": {
      "needs_background": "light"
     },
     "output_type": "display_data"
    }
   ],
   "source": [
    "plt.hist(data[\"y_prediccion\"]-data[\"y\"])"
   ]
  },
  {
   "cell_type": "markdown",
   "metadata": {},
   "source": [
    "## Obteniendo la recta de regresión\n",
    "\n",
    "* y = a + b * x \n",
    "* b = sum(xi - x_m) * (y_i-y_m) / sum ((xi - x_m)^2)\n",
    "* a = y_m -b * x_m\n"
   ]
  },
  {
   "cell_type": "code",
   "execution_count": 17,
   "metadata": {},
   "outputs": [
    {
     "data": {
      "text/plain": [
       "(1.0362053567838638, 6.887801786664027)"
      ]
     },
     "execution_count": 17,
     "metadata": {},
     "output_type": "execute_result"
    }
   ],
   "source": [
    "x_mean = np.mean(data[\"x\"])\n",
    "y_mean = np.mean(data[\"y\"])\n",
    "x_mean, y_mean"
   ]
  },
  {
   "cell_type": "code",
   "execution_count": 18,
   "metadata": {},
   "outputs": [],
   "source": [
    "data[\"beta_numerador\"] = (data[\"x\"] - x_mean) * (data[\"y\"] - y_mean)  \n",
    "data[\"beta_denominador\"] = (data[\"x\"] - x_mean) ** 2"
   ]
  },
  {
   "cell_type": "code",
   "execution_count": 19,
   "metadata": {},
   "outputs": [],
   "source": [
    "beta = sum(data[\"beta_numerador\"]) / sum(data[\"beta_denominador\"])\n"
   ]
  },
  {
   "cell_type": "code",
   "execution_count": 20,
   "metadata": {},
   "outputs": [],
   "source": [
    "alpha = y_mean - beta * x_mean"
   ]
  },
  {
   "cell_type": "code",
   "execution_count": 21,
   "metadata": {},
   "outputs": [
    {
     "data": {
      "text/plain": [
       "(4.117550847171879, 2.6734574583655415)"
      ]
     },
     "execution_count": 21,
     "metadata": {},
     "output_type": "execute_result"
    }
   ],
   "source": [
    "alpha, beta"
   ]
  },
  {
   "cell_type": "code",
   "execution_count": 22,
   "metadata": {},
   "outputs": [],
   "source": [
    "data[\"y_model\"] = alpha + beta * data[\"x\"]"
   ]
  },
  {
   "cell_type": "code",
   "execution_count": 23,
   "metadata": {},
   "outputs": [
    {
     "data": {
      "text/html": [
       "<div>\n",
       "<style scoped>\n",
       "    .dataframe tbody tr th:only-of-type {\n",
       "        vertical-align: middle;\n",
       "    }\n",
       "\n",
       "    .dataframe tbody tr th {\n",
       "        vertical-align: top;\n",
       "    }\n",
       "\n",
       "    .dataframe thead th {\n",
       "        text-align: right;\n",
       "    }\n",
       "</style>\n",
       "<table border=\"1\" class=\"dataframe\">\n",
       "  <thead>\n",
       "    <tr style=\"text-align: right;\">\n",
       "      <th></th>\n",
       "      <th>x</th>\n",
       "      <th>y</th>\n",
       "      <th>y_prediccion</th>\n",
       "      <th>SSR</th>\n",
       "      <th>SSD</th>\n",
       "      <th>SST</th>\n",
       "      <th>beta_numerador</th>\n",
       "      <th>beta_denominador</th>\n",
       "      <th>y_model</th>\n",
       "    </tr>\n",
       "  </thead>\n",
       "  <tbody>\n",
       "    <tr>\n",
       "      <th>0</th>\n",
       "      <td>3.001514</td>\n",
       "      <td>11.359032</td>\n",
       "      <td>12.104087</td>\n",
       "      <td>27.209630</td>\n",
       "      <td>0.555107</td>\n",
       "      <td>19.991899</td>\n",
       "      <td>8.787346</td>\n",
       "      <td>3.862437</td>\n",
       "      <td>12.141970</td>\n",
       "    </tr>\n",
       "    <tr>\n",
       "      <th>1</th>\n",
       "      <td>1.925075</td>\n",
       "      <td>10.014894</td>\n",
       "      <td>9.197702</td>\n",
       "      <td>5.335639</td>\n",
       "      <td>0.667802</td>\n",
       "      <td>9.778703</td>\n",
       "      <td>2.779576</td>\n",
       "      <td>0.790089</td>\n",
       "      <td>9.264156</td>\n",
       "    </tr>\n",
       "    <tr>\n",
       "      <th>2</th>\n",
       "      <td>2.411327</td>\n",
       "      <td>10.983174</td>\n",
       "      <td>10.510582</td>\n",
       "      <td>13.124537</td>\n",
       "      <td>0.223343</td>\n",
       "      <td>16.772072</td>\n",
       "      <td>5.631634</td>\n",
       "      <td>1.890959</td>\n",
       "      <td>10.564130</td>\n",
       "    </tr>\n",
       "    <tr>\n",
       "      <th>3</th>\n",
       "      <td>1.666408</td>\n",
       "      <td>8.543446</td>\n",
       "      <td>8.499301</td>\n",
       "      <td>2.596929</td>\n",
       "      <td>0.001949</td>\n",
       "      <td>2.741159</td>\n",
       "      <td>1.043391</td>\n",
       "      <td>0.397155</td>\n",
       "      <td>8.572621</td>\n",
       "    </tr>\n",
       "    <tr>\n",
       "      <th>4</th>\n",
       "      <td>4.245615</td>\n",
       "      <td>16.944081</td>\n",
       "      <td>15.463160</td>\n",
       "      <td>73.536773</td>\n",
       "      <td>2.193126</td>\n",
       "      <td>101.128746</td>\n",
       "      <td>32.274718</td>\n",
       "      <td>10.300310</td>\n",
       "      <td>15.468022</td>\n",
       "    </tr>\n",
       "  </tbody>\n",
       "</table>\n",
       "</div>"
      ],
      "text/plain": [
       "          x          y  y_prediccion        SSR       SSD         SST  \\\n",
       "0  3.001514  11.359032     12.104087  27.209630  0.555107   19.991899   \n",
       "1  1.925075  10.014894      9.197702   5.335639  0.667802    9.778703   \n",
       "2  2.411327  10.983174     10.510582  13.124537  0.223343   16.772072   \n",
       "3  1.666408   8.543446      8.499301   2.596929  0.001949    2.741159   \n",
       "4  4.245615  16.944081     15.463160  73.536773  2.193126  101.128746   \n",
       "\n",
       "   beta_numerador  beta_denominador    y_model  \n",
       "0        8.787346          3.862437  12.141970  \n",
       "1        2.779576          0.790089   9.264156  \n",
       "2        5.631634          1.890959  10.564130  \n",
       "3        1.043391          0.397155   8.572621  \n",
       "4       32.274718         10.300310  15.468022  "
      ]
     },
     "execution_count": 23,
     "metadata": {},
     "output_type": "execute_result"
    }
   ],
   "source": [
    "data.head()"
   ]
  },
  {
   "cell_type": "code",
   "execution_count": 24,
   "metadata": {},
   "outputs": [],
   "source": [
    "SSR_MODEL = sum((data[\"y_model\"] - y_mean)**2)\n",
    "SSD_MODEL = sum((data[\"y_model\"]-data[\"y\"])**2)\n",
    "SST_MODEL = sum((data[\"y\"]-y_mean)**2)"
   ]
  },
  {
   "cell_type": "code",
   "execution_count": 25,
   "metadata": {},
   "outputs": [
    {
     "data": {
      "text/plain": [
       "(5181.818676003134, 60.23669083988495, 5242.055366843025)"
      ]
     },
     "execution_count": 25,
     "metadata": {},
     "output_type": "execute_result"
    }
   ],
   "source": [
    "SSR_MODEL, SSD_MODEL, SST_MODEL"
   ]
  },
  {
   "cell_type": "code",
   "execution_count": 26,
   "metadata": {},
   "outputs": [],
   "source": [
    "R2_model = SSR_MODEL / SST_MODEL"
   ]
  },
  {
   "cell_type": "code",
   "execution_count": 27,
   "metadata": {},
   "outputs": [
    {
     "data": {
      "text/plain": [
       "(1.0083892446476046, 0.9885089556243722)"
      ]
     },
     "execution_count": 27,
     "metadata": {},
     "output_type": "execute_result"
    }
   ],
   "source": [
    "R2, R2_model"
   ]
  },
  {
   "cell_type": "code",
   "execution_count": 28,
   "metadata": {},
   "outputs": [],
   "source": [
    "y_mean = [np.mean(y_act) for i in range(1, len(x_list) +  1)]"
   ]
  },
  {
   "cell_type": "code",
   "execution_count": 29,
   "metadata": {},
   "outputs": [
    {
     "data": {
      "text/plain": [
       "Text(0.5, 1.0, 'Valor actual vs predicción')"
      ]
     },
     "execution_count": 29,
     "metadata": {},
     "output_type": "execute_result"
    },
    {
     "data": {
      "image/png": "[encoded data removed]",
      "text/plain": [
       "<Figure size 432x288 with 1 Axes>"
      ]
     },
     "metadata": {
      "needs_background": "light"
     },
     "output_type": "display_data"
    }
   ],
   "source": [
    "%matplotlib inline\n",
    "plt.plot(data[\"x\"],data[\"y_prediccion\"])\n",
    "plt.plot(data[\"x\"],data[\"y\"], \"ro\")\n",
    "plt.plot(data[\"x\"],y_mean, \"g\")\n",
    "plt.plot(data[\"x\"],data[\"y_model\"])\n",
    "plt.title(\"Valor actual vs predicción\")"
   ]
  },
  {
   "cell_type": "markdown",
   "metadata": {},
   "source": [
    "## Error estandar de los residuos RSE"
   ]
  },
  {
   "cell_type": "code",
   "execution_count": 32,
   "metadata": {},
   "outputs": [
    {
     "data": {
      "text/plain": [
       "0.7840026215588"
      ]
     },
     "execution_count": 32,
     "metadata": {},
     "output_type": "execute_result"
    }
   ],
   "source": [
    "RSE = np.sqrt(SSD_MODEL/ (len(data)-2))\n",
    "RSE"
   ]
  },
  {
   "cell_type": "code",
   "execution_count": 33,
   "metadata": {},
   "outputs": [
    {
     "data": {
      "text/plain": [
       "6.887801786664027"
      ]
     },
     "execution_count": 33,
     "metadata": {},
     "output_type": "execute_result"
    }
   ],
   "source": [
    "np.mean(data[\"y\"])"
   ]
  },
  {
   "cell_type": "code",
   "execution_count": 37,
   "metadata": {},
   "outputs": [
    {
     "name": "stdout",
     "output_type": "stream",
     "text": [
      "El porcentaje de error es:\n"
     ]
    },
    {
     "data": {
      "text/plain": [
       "0.11382479430182854"
      ]
     },
     "execution_count": 37,
     "metadata": {},
     "output_type": "execute_result"
    }
   ],
   "source": [
    "Porcentaje_error = RSE/ np.mean(data[\"y\"])\n",
    "print (\"El porcentaje de error es:\")  \n",
    "Porcentaje_error"
   ]
  }
 ],
 "metadata": {
  "kernelspec": {
   "display_name": "Python 3",
   "language": "python",
   "name": "python3"
  },
  "language_info": {
   "codemirror_mode": {
    "name": "ipython",
    "version": 3
   },
   "file_extension": ".py",
   "mimetype": "text/x-python",
   "name": "python",
   "nbconvert_exporter": "python",
   "pygments_lexer": "ipython3",
   "version": "3.7.3"
  }
 },
 "nbformat": 4,
 "nbformat_minor": 2
}
